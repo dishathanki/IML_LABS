{
 "cells": [
  {
   "cell_type": "markdown",
   "id": "6328e44a",
   "metadata": {
    "papermill": {
     "duration": 0.008299,
     "end_time": "2023-11-05T07:25:47.739316",
     "exception": false,
     "start_time": "2023-11-05T07:25:47.731017",
     "status": "completed"
    },
    "tags": []
   },
   "source": [
    "# Thanki Disha Bhagvanjibhai [216270307024]"
   ]
  },
  {
   "cell_type": "markdown",
   "id": "661581c4",
   "metadata": {
    "papermill": {
     "duration": 0.007373,
     "end_time": "2023-11-05T07:25:47.754601",
     "exception": false,
     "start_time": "2023-11-05T07:25:47.747228",
     "status": "completed"
    },
    "tags": []
   },
   "source": [
    "# Practical 14"
   ]
  },
  {
   "cell_type": "markdown",
   "id": "c4d9b117",
   "metadata": {
    "papermill": {
     "duration": 0.007643,
     "end_time": "2023-11-05T07:25:47.770077",
     "exception": false,
     "start_time": "2023-11-05T07:25:47.762434",
     "status": "completed"
    },
    "tags": []
   },
   "source": [
    "# MINI PROJECT : DIABETES PREDICTION "
   ]
  },
  {
   "cell_type": "markdown",
   "id": "b0e5edca",
   "metadata": {
    "papermill": {
     "duration": 0.007549,
     "end_time": "2023-11-05T07:25:47.785325",
     "exception": false,
     "start_time": "2023-11-05T07:25:47.777776",
     "status": "completed"
    },
    "tags": []
   },
   "source": [
    "# -> DATA PREPROCESSING PART "
   ]
  },
  {
   "cell_type": "code",
   "execution_count": 1,
   "id": "e08a85b5",
   "metadata": {
    "execution": {
     "iopub.execute_input": "2023-11-05T07:25:47.803151Z",
     "iopub.status.busy": "2023-11-05T07:25:47.802424Z",
     "iopub.status.idle": "2023-11-05T07:25:50.250588Z",
     "shell.execute_reply": "2023-11-05T07:25:50.249356Z"
    },
    "papermill": {
     "duration": 2.460413,
     "end_time": "2023-11-05T07:25:50.253441",
     "exception": false,
     "start_time": "2023-11-05T07:25:47.793028",
     "status": "completed"
    },
    "tags": []
   },
   "outputs": [],
   "source": [
    "# importing diffrent files \n",
    "\n",
    "import pandas as pd\n",
    "from sklearn.preprocessing import StandardScaler\n",
    "from sklearn.model_selection import train_test_split\n",
    "from sklearn.metrics import accuracy_score\n",
    "from IPython.display import display\n",
    "import seaborn as sns\n",
    "import matplotlib.pyplot as plt\n",
    "import warnings"
   ]
  },
  {
   "cell_type": "code",
   "execution_count": 2,
   "id": "ea3fdec5",
   "metadata": {
    "execution": {
     "iopub.execute_input": "2023-11-05T07:25:50.270988Z",
     "iopub.status.busy": "2023-11-05T07:25:50.270391Z",
     "iopub.status.idle": "2023-11-05T07:25:50.327130Z",
     "shell.execute_reply": "2023-11-05T07:25:50.326024Z"
    },
    "papermill": {
     "duration": 0.068699,
     "end_time": "2023-11-05T07:25:50.330060",
     "exception": false,
     "start_time": "2023-11-05T07:25:50.261361",
     "status": "completed"
    },
    "tags": []
   },
   "outputs": [
    {
     "data": {
      "text/html": [
       "<div>\n",
       "<style scoped>\n",
       "    .dataframe tbody tr th:only-of-type {\n",
       "        vertical-align: middle;\n",
       "    }\n",
       "\n",
       "    .dataframe tbody tr th {\n",
       "        vertical-align: top;\n",
       "    }\n",
       "\n",
       "    .dataframe thead th {\n",
       "        text-align: right;\n",
       "    }\n",
       "</style>\n",
       "<table border=\"1\" class=\"dataframe\">\n",
       "  <thead>\n",
       "    <tr style=\"text-align: right;\">\n",
       "      <th></th>\n",
       "      <th>Pregnancies</th>\n",
       "      <th>Glucose</th>\n",
       "      <th>BloodPressure</th>\n",
       "      <th>SkinThickness</th>\n",
       "      <th>Insulin</th>\n",
       "      <th>BMI</th>\n",
       "      <th>DiabetesPedigreeFunction</th>\n",
       "      <th>Age</th>\n",
       "      <th>Outcome</th>\n",
       "    </tr>\n",
       "  </thead>\n",
       "  <tbody>\n",
       "    <tr>\n",
       "      <th>0</th>\n",
       "      <td>6</td>\n",
       "      <td>148</td>\n",
       "      <td>72</td>\n",
       "      <td>35</td>\n",
       "      <td>0</td>\n",
       "      <td>33.6</td>\n",
       "      <td>0.627</td>\n",
       "      <td>50</td>\n",
       "      <td>1</td>\n",
       "    </tr>\n",
       "    <tr>\n",
       "      <th>1</th>\n",
       "      <td>1</td>\n",
       "      <td>85</td>\n",
       "      <td>66</td>\n",
       "      <td>29</td>\n",
       "      <td>0</td>\n",
       "      <td>26.6</td>\n",
       "      <td>0.351</td>\n",
       "      <td>31</td>\n",
       "      <td>0</td>\n",
       "    </tr>\n",
       "    <tr>\n",
       "      <th>2</th>\n",
       "      <td>8</td>\n",
       "      <td>183</td>\n",
       "      <td>64</td>\n",
       "      <td>0</td>\n",
       "      <td>0</td>\n",
       "      <td>23.3</td>\n",
       "      <td>0.672</td>\n",
       "      <td>32</td>\n",
       "      <td>1</td>\n",
       "    </tr>\n",
       "    <tr>\n",
       "      <th>3</th>\n",
       "      <td>1</td>\n",
       "      <td>89</td>\n",
       "      <td>66</td>\n",
       "      <td>23</td>\n",
       "      <td>94</td>\n",
       "      <td>28.1</td>\n",
       "      <td>0.167</td>\n",
       "      <td>21</td>\n",
       "      <td>0</td>\n",
       "    </tr>\n",
       "    <tr>\n",
       "      <th>4</th>\n",
       "      <td>0</td>\n",
       "      <td>137</td>\n",
       "      <td>40</td>\n",
       "      <td>35</td>\n",
       "      <td>168</td>\n",
       "      <td>43.1</td>\n",
       "      <td>2.288</td>\n",
       "      <td>33</td>\n",
       "      <td>1</td>\n",
       "    </tr>\n",
       "  </tbody>\n",
       "</table>\n",
       "</div>"
      ],
      "text/plain": [
       "   Pregnancies  Glucose  BloodPressure  SkinThickness  Insulin   BMI  \\\n",
       "0            6      148             72             35        0  33.6   \n",
       "1            1       85             66             29        0  26.6   \n",
       "2            8      183             64              0        0  23.3   \n",
       "3            1       89             66             23       94  28.1   \n",
       "4            0      137             40             35      168  43.1   \n",
       "\n",
       "   DiabetesPedigreeFunction  Age  Outcome  \n",
       "0                     0.627   50        1  \n",
       "1                     0.351   31        0  \n",
       "2                     0.672   32        1  \n",
       "3                     0.167   21        0  \n",
       "4                     2.288   33        1  "
      ]
     },
     "execution_count": 2,
     "metadata": {},
     "output_type": "execute_result"
    }
   ],
   "source": [
    "# Loading Dataset\n",
    "\n",
    "# loading dataset\n",
    "data = pd.read_csv('/kaggle/input/diabetes-dataset/diabetes.csv')\n",
    "data.head()"
   ]
  },
  {
   "cell_type": "code",
   "execution_count": 3,
   "id": "5a097af3",
   "metadata": {
    "execution": {
     "iopub.execute_input": "2023-11-05T07:25:50.347930Z",
     "iopub.status.busy": "2023-11-05T07:25:50.347524Z",
     "iopub.status.idle": "2023-11-05T07:25:50.395177Z",
     "shell.execute_reply": "2023-11-05T07:25:50.394028Z"
    },
    "papermill": {
     "duration": 0.060171,
     "end_time": "2023-11-05T07:25:50.398311",
     "exception": false,
     "start_time": "2023-11-05T07:25:50.338140",
     "status": "completed"
    },
    "tags": []
   },
   "outputs": [
    {
     "name": "stdout",
     "output_type": "stream",
     "text": [
      " SHAPE OF DATA :  (768, 9)\n"
     ]
    },
    {
     "data": {
      "text/html": [
       "<div>\n",
       "<style scoped>\n",
       "    .dataframe tbody tr th:only-of-type {\n",
       "        vertical-align: middle;\n",
       "    }\n",
       "\n",
       "    .dataframe tbody tr th {\n",
       "        vertical-align: top;\n",
       "    }\n",
       "\n",
       "    .dataframe thead th {\n",
       "        text-align: right;\n",
       "    }\n",
       "</style>\n",
       "<table border=\"1\" class=\"dataframe\">\n",
       "  <thead>\n",
       "    <tr style=\"text-align: right;\">\n",
       "      <th></th>\n",
       "      <th>count</th>\n",
       "      <th>mean</th>\n",
       "      <th>std</th>\n",
       "      <th>min</th>\n",
       "      <th>25%</th>\n",
       "      <th>50%</th>\n",
       "      <th>75%</th>\n",
       "      <th>max</th>\n",
       "    </tr>\n",
       "  </thead>\n",
       "  <tbody>\n",
       "    <tr>\n",
       "      <th>Pregnancies</th>\n",
       "      <td>768.0</td>\n",
       "      <td>3.845052</td>\n",
       "      <td>3.369578</td>\n",
       "      <td>0.000</td>\n",
       "      <td>1.00000</td>\n",
       "      <td>3.0000</td>\n",
       "      <td>6.00000</td>\n",
       "      <td>17.00</td>\n",
       "    </tr>\n",
       "    <tr>\n",
       "      <th>Glucose</th>\n",
       "      <td>768.0</td>\n",
       "      <td>120.894531</td>\n",
       "      <td>31.972618</td>\n",
       "      <td>0.000</td>\n",
       "      <td>99.00000</td>\n",
       "      <td>117.0000</td>\n",
       "      <td>140.25000</td>\n",
       "      <td>199.00</td>\n",
       "    </tr>\n",
       "    <tr>\n",
       "      <th>BloodPressure</th>\n",
       "      <td>768.0</td>\n",
       "      <td>69.105469</td>\n",
       "      <td>19.355807</td>\n",
       "      <td>0.000</td>\n",
       "      <td>62.00000</td>\n",
       "      <td>72.0000</td>\n",
       "      <td>80.00000</td>\n",
       "      <td>122.00</td>\n",
       "    </tr>\n",
       "    <tr>\n",
       "      <th>SkinThickness</th>\n",
       "      <td>768.0</td>\n",
       "      <td>20.536458</td>\n",
       "      <td>15.952218</td>\n",
       "      <td>0.000</td>\n",
       "      <td>0.00000</td>\n",
       "      <td>23.0000</td>\n",
       "      <td>32.00000</td>\n",
       "      <td>99.00</td>\n",
       "    </tr>\n",
       "    <tr>\n",
       "      <th>Insulin</th>\n",
       "      <td>768.0</td>\n",
       "      <td>79.799479</td>\n",
       "      <td>115.244002</td>\n",
       "      <td>0.000</td>\n",
       "      <td>0.00000</td>\n",
       "      <td>30.5000</td>\n",
       "      <td>127.25000</td>\n",
       "      <td>846.00</td>\n",
       "    </tr>\n",
       "    <tr>\n",
       "      <th>BMI</th>\n",
       "      <td>768.0</td>\n",
       "      <td>31.992578</td>\n",
       "      <td>7.884160</td>\n",
       "      <td>0.000</td>\n",
       "      <td>27.30000</td>\n",
       "      <td>32.0000</td>\n",
       "      <td>36.60000</td>\n",
       "      <td>67.10</td>\n",
       "    </tr>\n",
       "    <tr>\n",
       "      <th>DiabetesPedigreeFunction</th>\n",
       "      <td>768.0</td>\n",
       "      <td>0.471876</td>\n",
       "      <td>0.331329</td>\n",
       "      <td>0.078</td>\n",
       "      <td>0.24375</td>\n",
       "      <td>0.3725</td>\n",
       "      <td>0.62625</td>\n",
       "      <td>2.42</td>\n",
       "    </tr>\n",
       "    <tr>\n",
       "      <th>Age</th>\n",
       "      <td>768.0</td>\n",
       "      <td>33.240885</td>\n",
       "      <td>11.760232</td>\n",
       "      <td>21.000</td>\n",
       "      <td>24.00000</td>\n",
       "      <td>29.0000</td>\n",
       "      <td>41.00000</td>\n",
       "      <td>81.00</td>\n",
       "    </tr>\n",
       "    <tr>\n",
       "      <th>Outcome</th>\n",
       "      <td>768.0</td>\n",
       "      <td>0.348958</td>\n",
       "      <td>0.476951</td>\n",
       "      <td>0.000</td>\n",
       "      <td>0.00000</td>\n",
       "      <td>0.0000</td>\n",
       "      <td>1.00000</td>\n",
       "      <td>1.00</td>\n",
       "    </tr>\n",
       "  </tbody>\n",
       "</table>\n",
       "</div>"
      ],
      "text/plain": [
       "                          count        mean         std     min       25%  \\\n",
       "Pregnancies               768.0    3.845052    3.369578   0.000   1.00000   \n",
       "Glucose                   768.0  120.894531   31.972618   0.000  99.00000   \n",
       "BloodPressure             768.0   69.105469   19.355807   0.000  62.00000   \n",
       "SkinThickness             768.0   20.536458   15.952218   0.000   0.00000   \n",
       "Insulin                   768.0   79.799479  115.244002   0.000   0.00000   \n",
       "BMI                       768.0   31.992578    7.884160   0.000  27.30000   \n",
       "DiabetesPedigreeFunction  768.0    0.471876    0.331329   0.078   0.24375   \n",
       "Age                       768.0   33.240885   11.760232  21.000  24.00000   \n",
       "Outcome                   768.0    0.348958    0.476951   0.000   0.00000   \n",
       "\n",
       "                               50%        75%     max  \n",
       "Pregnancies                 3.0000    6.00000   17.00  \n",
       "Glucose                   117.0000  140.25000  199.00  \n",
       "BloodPressure              72.0000   80.00000  122.00  \n",
       "SkinThickness              23.0000   32.00000   99.00  \n",
       "Insulin                    30.5000  127.25000  846.00  \n",
       "BMI                        32.0000   36.60000   67.10  \n",
       "DiabetesPedigreeFunction    0.3725    0.62625    2.42  \n",
       "Age                        29.0000   41.00000   81.00  \n",
       "Outcome                     0.0000    1.00000    1.00  "
      ]
     },
     "execution_count": 3,
     "metadata": {},
     "output_type": "execute_result"
    }
   ],
   "source": [
    "# finding Number of Columns present in Dataset\n",
    "\n",
    "print(\" SHAPE OF DATA : \",data.shape)\n",
    "\n",
    "# getting the statistical measures of the dataset\n",
    "\n",
    "data.describe().T"
   ]
  },
  {
   "cell_type": "code",
   "execution_count": 4,
   "id": "222208c2",
   "metadata": {
    "execution": {
     "iopub.execute_input": "2023-11-05T07:25:50.417618Z",
     "iopub.status.busy": "2023-11-05T07:25:50.416822Z",
     "iopub.status.idle": "2023-11-05T07:25:50.430497Z",
     "shell.execute_reply": "2023-11-05T07:25:50.429157Z"
    },
    "papermill": {
     "duration": 0.026218,
     "end_time": "2023-11-05T07:25:50.433098",
     "exception": false,
     "start_time": "2023-11-05T07:25:50.406880",
     "status": "completed"
    },
    "tags": []
   },
   "outputs": [],
   "source": [
    "# deciding feature and target variable for model\n",
    "\n",
    "features = data.drop(columns = 'Outcome', axis = 1)\n",
    "target = data['Outcome']"
   ]
  },
  {
   "cell_type": "code",
   "execution_count": 5,
   "id": "e5e31d67",
   "metadata": {
    "execution": {
     "iopub.execute_input": "2023-11-05T07:25:50.453181Z",
     "iopub.status.busy": "2023-11-05T07:25:50.452648Z",
     "iopub.status.idle": "2023-11-05T07:25:50.465711Z",
     "shell.execute_reply": "2023-11-05T07:25:50.464875Z"
    },
    "papermill": {
     "duration": 0.025841,
     "end_time": "2023-11-05T07:25:50.468108",
     "exception": false,
     "start_time": "2023-11-05T07:25:50.442267",
     "status": "completed"
    },
    "tags": []
   },
   "outputs": [
    {
     "data": {
      "text/plain": [
       "(     Pregnancies  Glucose  BloodPressure  SkinThickness  Insulin   BMI  \\\n",
       " 0              6      148             72             35        0  33.6   \n",
       " 1              1       85             66             29        0  26.6   \n",
       " 2              8      183             64              0        0  23.3   \n",
       " 3              1       89             66             23       94  28.1   \n",
       " 4              0      137             40             35      168  43.1   \n",
       " ..           ...      ...            ...            ...      ...   ...   \n",
       " 763           10      101             76             48      180  32.9   \n",
       " 764            2      122             70             27        0  36.8   \n",
       " 765            5      121             72             23      112  26.2   \n",
       " 766            1      126             60              0        0  30.1   \n",
       " 767            1       93             70             31        0  30.4   \n",
       " \n",
       "      DiabetesPedigreeFunction  Age  \n",
       " 0                       0.627   50  \n",
       " 1                       0.351   31  \n",
       " 2                       0.672   32  \n",
       " 3                       0.167   21  \n",
       " 4                       2.288   33  \n",
       " ..                        ...  ...  \n",
       " 763                     0.171   63  \n",
       " 764                     0.340   27  \n",
       " 765                     0.245   30  \n",
       " 766                     0.349   47  \n",
       " 767                     0.315   23  \n",
       " \n",
       " [768 rows x 8 columns],\n",
       " 0      1\n",
       " 1      0\n",
       " 2      1\n",
       " 3      0\n",
       " 4      1\n",
       "       ..\n",
       " 763    0\n",
       " 764    0\n",
       " 765    0\n",
       " 766    1\n",
       " 767    0\n",
       " Name: Outcome, Length: 768, dtype: int64)"
      ]
     },
     "execution_count": 5,
     "metadata": {},
     "output_type": "execute_result"
    }
   ],
   "source": [
    "features,target"
   ]
  },
  {
   "cell_type": "code",
   "execution_count": 6,
   "id": "cf89e887",
   "metadata": {
    "execution": {
     "iopub.execute_input": "2023-11-05T07:25:50.488067Z",
     "iopub.status.busy": "2023-11-05T07:25:50.487510Z",
     "iopub.status.idle": "2023-11-05T07:25:50.503535Z",
     "shell.execute_reply": "2023-11-05T07:25:50.502714Z"
    },
    "papermill": {
     "duration": 0.028557,
     "end_time": "2023-11-05T07:25:50.505598",
     "exception": false,
     "start_time": "2023-11-05T07:25:50.477041",
     "status": "completed"
    },
    "tags": []
   },
   "outputs": [
    {
     "data": {
      "text/html": [
       "<style>#sk-container-id-1 {color: black;background-color: white;}#sk-container-id-1 pre{padding: 0;}#sk-container-id-1 div.sk-toggleable {background-color: white;}#sk-container-id-1 label.sk-toggleable__label {cursor: pointer;display: block;width: 100%;margin-bottom: 0;padding: 0.3em;box-sizing: border-box;text-align: center;}#sk-container-id-1 label.sk-toggleable__label-arrow:before {content: \"▸\";float: left;margin-right: 0.25em;color: #696969;}#sk-container-id-1 label.sk-toggleable__label-arrow:hover:before {color: black;}#sk-container-id-1 div.sk-estimator:hover label.sk-toggleable__label-arrow:before {color: black;}#sk-container-id-1 div.sk-toggleable__content {max-height: 0;max-width: 0;overflow: hidden;text-align: left;background-color: #f0f8ff;}#sk-container-id-1 div.sk-toggleable__content pre {margin: 0.2em;color: black;border-radius: 0.25em;background-color: #f0f8ff;}#sk-container-id-1 input.sk-toggleable__control:checked~div.sk-toggleable__content {max-height: 200px;max-width: 100%;overflow: auto;}#sk-container-id-1 input.sk-toggleable__control:checked~label.sk-toggleable__label-arrow:before {content: \"▾\";}#sk-container-id-1 div.sk-estimator input.sk-toggleable__control:checked~label.sk-toggleable__label {background-color: #d4ebff;}#sk-container-id-1 div.sk-label input.sk-toggleable__control:checked~label.sk-toggleable__label {background-color: #d4ebff;}#sk-container-id-1 input.sk-hidden--visually {border: 0;clip: rect(1px 1px 1px 1px);clip: rect(1px, 1px, 1px, 1px);height: 1px;margin: -1px;overflow: hidden;padding: 0;position: absolute;width: 1px;}#sk-container-id-1 div.sk-estimator {font-family: monospace;background-color: #f0f8ff;border: 1px dotted black;border-radius: 0.25em;box-sizing: border-box;margin-bottom: 0.5em;}#sk-container-id-1 div.sk-estimator:hover {background-color: #d4ebff;}#sk-container-id-1 div.sk-parallel-item::after {content: \"\";width: 100%;border-bottom: 1px solid gray;flex-grow: 1;}#sk-container-id-1 div.sk-label:hover label.sk-toggleable__label {background-color: #d4ebff;}#sk-container-id-1 div.sk-serial::before {content: \"\";position: absolute;border-left: 1px solid gray;box-sizing: border-box;top: 0;bottom: 0;left: 50%;z-index: 0;}#sk-container-id-1 div.sk-serial {display: flex;flex-direction: column;align-items: center;background-color: white;padding-right: 0.2em;padding-left: 0.2em;position: relative;}#sk-container-id-1 div.sk-item {position: relative;z-index: 1;}#sk-container-id-1 div.sk-parallel {display: flex;align-items: stretch;justify-content: center;background-color: white;position: relative;}#sk-container-id-1 div.sk-item::before, #sk-container-id-1 div.sk-parallel-item::before {content: \"\";position: absolute;border-left: 1px solid gray;box-sizing: border-box;top: 0;bottom: 0;left: 50%;z-index: -1;}#sk-container-id-1 div.sk-parallel-item {display: flex;flex-direction: column;z-index: 1;position: relative;background-color: white;}#sk-container-id-1 div.sk-parallel-item:first-child::after {align-self: flex-end;width: 50%;}#sk-container-id-1 div.sk-parallel-item:last-child::after {align-self: flex-start;width: 50%;}#sk-container-id-1 div.sk-parallel-item:only-child::after {width: 0;}#sk-container-id-1 div.sk-dashed-wrapped {border: 1px dashed gray;margin: 0 0.4em 0.5em 0.4em;box-sizing: border-box;padding-bottom: 0.4em;background-color: white;}#sk-container-id-1 div.sk-label label {font-family: monospace;font-weight: bold;display: inline-block;line-height: 1.2em;}#sk-container-id-1 div.sk-label-container {text-align: center;}#sk-container-id-1 div.sk-container {/* jupyter's `normalize.less` sets `[hidden] { display: none; }` but bootstrap.min.css set `[hidden] { display: none !important; }` so we also need the `!important` here to be able to override the default hidden behavior on the sphinx rendered scikit-learn.org. See: https://github.com/scikit-learn/scikit-learn/issues/21755 */display: inline-block !important;position: relative;}#sk-container-id-1 div.sk-text-repr-fallback {display: none;}</style><div id=\"sk-container-id-1\" class=\"sk-top-container\"><div class=\"sk-text-repr-fallback\"><pre>StandardScaler()</pre><b>In a Jupyter environment, please rerun this cell to show the HTML representation or trust the notebook. <br />On GitHub, the HTML representation is unable to render, please try loading this page with nbviewer.org.</b></div><div class=\"sk-container\" hidden><div class=\"sk-item\"><div class=\"sk-estimator sk-toggleable\"><input class=\"sk-toggleable__control sk-hidden--visually\" id=\"sk-estimator-id-1\" type=\"checkbox\" checked><label for=\"sk-estimator-id-1\" class=\"sk-toggleable__label sk-toggleable__label-arrow\">StandardScaler</label><div class=\"sk-toggleable__content\"><pre>StandardScaler()</pre></div></div></div></div></div>"
      ],
      "text/plain": [
       "StandardScaler()"
      ]
     },
     "execution_count": 6,
     "metadata": {},
     "output_type": "execute_result"
    }
   ],
   "source": [
    "# StandardScaler standardizes a feature by subtracting the mean and then scaling to unit variance.\n",
    "# Unit variance means dividing all the values by the standard deviation.\n",
    "\n",
    "# creating object for standardscalar \n",
    "\n",
    "scaler = StandardScaler()\n",
    "\n",
    "scaler.fit(features)\n",
    "\n",
    "# This method calculates the mean and the standard deviation to use later for scaling the data."
   ]
  },
  {
   "cell_type": "code",
   "execution_count": 7,
   "id": "181c3f1b",
   "metadata": {
    "execution": {
     "iopub.execute_input": "2023-11-05T07:25:50.525878Z",
     "iopub.status.busy": "2023-11-05T07:25:50.524801Z",
     "iopub.status.idle": "2023-11-05T07:25:50.536244Z",
     "shell.execute_reply": "2023-11-05T07:25:50.535236Z"
    },
    "papermill": {
     "duration": 0.02404,
     "end_time": "2023-11-05T07:25:50.538605",
     "exception": false,
     "start_time": "2023-11-05T07:25:50.514565",
     "status": "completed"
    },
    "tags": []
   },
   "outputs": [
    {
     "data": {
      "text/plain": [
       "(array([[ 0.63994726,  0.84832379,  0.14964075, ...,  0.20401277,\n",
       "          0.46849198,  1.4259954 ],\n",
       "        [-0.84488505, -1.12339636, -0.16054575, ..., -0.68442195,\n",
       "         -0.36506078, -0.19067191],\n",
       "        [ 1.23388019,  1.94372388, -0.26394125, ..., -1.10325546,\n",
       "          0.60439732, -0.10558415],\n",
       "        ...,\n",
       "        [ 0.3429808 ,  0.00330087,  0.14964075, ..., -0.73518964,\n",
       "         -0.68519336, -0.27575966],\n",
       "        [-0.84488505,  0.1597866 , -0.47073225, ..., -0.24020459,\n",
       "         -0.37110101,  1.17073215],\n",
       "        [-0.84488505, -0.8730192 ,  0.04624525, ..., -0.20212881,\n",
       "         -0.47378505, -0.87137393]]),\n",
       " 0      1\n",
       " 1      0\n",
       " 2      1\n",
       " 3      0\n",
       " 4      1\n",
       "       ..\n",
       " 763    0\n",
       " 764    0\n",
       " 765    0\n",
       " 766    1\n",
       " 767    0\n",
       " Name: Outcome, Length: 768, dtype: int64)"
      ]
     },
     "execution_count": 7,
     "metadata": {},
     "output_type": "execute_result"
    }
   ],
   "source": [
    "# This method fits the parameters of the data and then transforms it.\n",
    "\n",
    "standardized_data = scaler.transform(features)\n",
    "\n",
    "# assigning this standardized_data to features \n",
    "features = standardized_data\n",
    "target = data['Outcome']\n",
    "\n",
    "features, target"
   ]
  },
  {
   "cell_type": "code",
   "execution_count": 8,
   "id": "4f52b730",
   "metadata": {
    "execution": {
     "iopub.execute_input": "2023-11-05T07:25:50.559211Z",
     "iopub.status.busy": "2023-11-05T07:25:50.558784Z",
     "iopub.status.idle": "2023-11-05T07:25:50.567291Z",
     "shell.execute_reply": "2023-11-05T07:25:50.566056Z"
    },
    "papermill": {
     "duration": 0.0218,
     "end_time": "2023-11-05T07:25:50.569620",
     "exception": false,
     "start_time": "2023-11-05T07:25:50.547820",
     "status": "completed"
    },
    "tags": []
   },
   "outputs": [
    {
     "name": "stdout",
     "output_type": "stream",
     "text": [
      " features shape :  (768, 8)\n",
      " X_train shape :  (614, 8)\n",
      " X_test shape :  (154, 8)\n"
     ]
    }
   ],
   "source": [
    "# splitting data into traindata and testdata \n",
    "\n",
    "X_train, X_test, Y_train, Y_test = train_test_split(features, target, test_size=0.2, random_state = 2)\n",
    "\n",
    "print(\" features shape : \",features.shape)\n",
    "print(\" X_train shape : \",X_train.shape)\n",
    "print(\" X_test shape : \",X_test.shape)"
   ]
  },
  {
   "cell_type": "markdown",
   "id": "1bdc4997",
   "metadata": {
    "papermill": {
     "duration": 0.0089,
     "end_time": "2023-11-05T07:25:50.587772",
     "exception": false,
     "start_time": "2023-11-05T07:25:50.578872",
     "status": "completed"
    },
    "tags": []
   },
   "source": [
    "# -> TRAINING MODEL USING LOGISTIC REGRESSION "
   ]
  },
  {
   "cell_type": "code",
   "execution_count": 9,
   "id": "d67d2ba2",
   "metadata": {
    "execution": {
     "iopub.execute_input": "2023-11-05T07:25:50.608163Z",
     "iopub.status.busy": "2023-11-05T07:25:50.607538Z",
     "iopub.status.idle": "2023-11-05T07:25:50.731265Z",
     "shell.execute_reply": "2023-11-05T07:25:50.729992Z"
    },
    "papermill": {
     "duration": 0.136726,
     "end_time": "2023-11-05T07:25:50.733592",
     "exception": false,
     "start_time": "2023-11-05T07:25:50.596866",
     "status": "completed"
    },
    "tags": []
   },
   "outputs": [
    {
     "name": "stdout",
     "output_type": "stream",
     "text": [
      "\n",
      "Accuracy score of logistic regression =  0.7662337662337663\n"
     ]
    }
   ],
   "source": [
    "# importing logistic regression\n",
    "from sklearn.linear_model import LogisticRegression\n",
    "\n",
    "# creating object for it.\n",
    "classifier =  LogisticRegression()\n",
    "\n",
    "# training data using fit function\n",
    "classifier.fit(X_train, Y_train)\n",
    "\n",
    "# testing data using predict function\n",
    "X_test_prediction = classifier.predict(X_test)\n",
    "\n",
    "# checking accuracy for model \n",
    "logistic_acc = accuracy_score(Y_test, X_test_prediction)\n",
    "\n",
    "# Display accuracy for Logistic regression\n",
    "print()\n",
    "print('Accuracy score of logistic regression = ', logistic_acc)"
   ]
  },
  {
   "cell_type": "markdown",
   "id": "261b5139",
   "metadata": {
    "papermill": {
     "duration": 0.009032,
     "end_time": "2023-11-05T07:25:50.752126",
     "exception": false,
     "start_time": "2023-11-05T07:25:50.743094",
     "status": "completed"
    },
    "tags": []
   },
   "source": [
    "# -> TRAINING MODEL USING SUPPORT VECTOR MACHINE "
   ]
  },
  {
   "cell_type": "code",
   "execution_count": 10,
   "id": "b150fe45",
   "metadata": {
    "execution": {
     "iopub.execute_input": "2023-11-05T07:25:50.772437Z",
     "iopub.status.busy": "2023-11-05T07:25:50.772033Z",
     "iopub.status.idle": "2023-11-05T07:25:50.797910Z",
     "shell.execute_reply": "2023-11-05T07:25:50.796702Z"
    },
    "papermill": {
     "duration": 0.038861,
     "end_time": "2023-11-05T07:25:50.800224",
     "exception": false,
     "start_time": "2023-11-05T07:25:50.761363",
     "status": "completed"
    },
    "tags": []
   },
   "outputs": [
    {
     "name": "stdout",
     "output_type": "stream",
     "text": [
      "\n",
      " Accuracy score of support vector machine :   0.7402597402597403\n"
     ]
    }
   ],
   "source": [
    "# importing svm \n",
    "from sklearn import svm\n",
    "\n",
    "# creating object of svm \n",
    "model = svm.SVC()\n",
    "\n",
    "# training data using fit function\n",
    "model.fit(X_train, Y_train)\n",
    "\n",
    "# testing data using predict function\n",
    "predicted_Y = model.predict(X_test)\n",
    "\n",
    "# checking accuracy for model \n",
    "svm_acc = accuracy_score(Y_test, predicted_Y)\n",
    "\n",
    "\n",
    "# Display accuracy for the support vector machine\n",
    "print()\n",
    "print(\" Accuracy score of support vector machine :  \",svm_acc)"
   ]
  },
  {
   "cell_type": "markdown",
   "id": "3496a22a",
   "metadata": {
    "papermill": {
     "duration": 0.009075,
     "end_time": "2023-11-05T07:25:50.818688",
     "exception": false,
     "start_time": "2023-11-05T07:25:50.809613",
     "status": "completed"
    },
    "tags": []
   },
   "source": [
    "# -> TRAINING MODEL USING DECISION TREEE CLASSIFIER "
   ]
  },
  {
   "cell_type": "code",
   "execution_count": 11,
   "id": "8b23685a",
   "metadata": {
    "execution": {
     "iopub.execute_input": "2023-11-05T07:25:50.839657Z",
     "iopub.status.busy": "2023-11-05T07:25:50.838981Z",
     "iopub.status.idle": "2023-11-05T07:25:51.030985Z",
     "shell.execute_reply": "2023-11-05T07:25:51.029993Z"
    },
    "papermill": {
     "duration": 0.205509,
     "end_time": "2023-11-05T07:25:51.033610",
     "exception": false,
     "start_time": "2023-11-05T07:25:50.828101",
     "status": "completed"
    },
    "tags": []
   },
   "outputs": [
    {
     "name": "stdout",
     "output_type": "stream",
     "text": [
      "\n",
      " Accuracy score of Decision Tree classifier :  0.7467532467532467\n"
     ]
    }
   ],
   "source": [
    "# Import necessary libraries\n",
    "from sklearn.tree import DecisionTreeClassifier\n",
    "\n",
    "# Create an instance of the Decision Tree classifier\n",
    "decision = DecisionTreeClassifier()\n",
    "\n",
    "# Train the Decision Tree classifier on the training data\n",
    "decision.fit(X_train, Y_train)\n",
    "             \n",
    "# Evaluate the Decision Tree classifier on the test data\n",
    "decision_prediction = decision.predict(X_test)\n",
    "\n",
    "# Calculate accuracy for the Decision Tree classifier\n",
    "decision_tree_acc = accuracy_score(Y_test, decision_prediction)\n",
    "\n",
    "# Display accuracy for the Decision Tree classifier\n",
    "print()\n",
    "print(\" Accuracy score of Decision Tree classifier : \", decision_tree_acc)"
   ]
  },
  {
   "cell_type": "markdown",
   "id": "1d6bee6c",
   "metadata": {
    "papermill": {
     "duration": 0.009234,
     "end_time": "2023-11-05T07:25:51.052415",
     "exception": false,
     "start_time": "2023-11-05T07:25:51.043181",
     "status": "completed"
    },
    "tags": []
   },
   "source": [
    "# -> TRAINING MODEL USING K-NEAREST NEIGHBOR CLASSIFIER"
   ]
  },
  {
   "cell_type": "code",
   "execution_count": 12,
   "id": "1dd9f1d7",
   "metadata": {
    "execution": {
     "iopub.execute_input": "2023-11-05T07:25:51.073358Z",
     "iopub.status.busy": "2023-11-05T07:25:51.072817Z",
     "iopub.status.idle": "2023-11-05T07:25:51.096559Z",
     "shell.execute_reply": "2023-11-05T07:25:51.095427Z"
    },
    "papermill": {
     "duration": 0.03708,
     "end_time": "2023-11-05T07:25:51.098966",
     "exception": false,
     "start_time": "2023-11-05T07:25:51.061886",
     "status": "completed"
    },
    "tags": []
   },
   "outputs": [
    {
     "name": "stdout",
     "output_type": "stream",
     "text": [
      "\n",
      " Accuracy score of k nearest neighbor classifier :  0.7597402597402597\n"
     ]
    }
   ],
   "source": [
    "# Import necessary libraries\n",
    "from sklearn.neighbors import KNeighborsClassifier\n",
    "\n",
    "# Create an instance of the KNN classifier with a specific number of neighbors (e.g., 3)\n",
    "knn_classifier = KNeighborsClassifier(n_neighbors=3)\n",
    "\n",
    "# Train the KNN classifier on the training data\n",
    "knn_classifier.fit(X_train, Y_train)\n",
    "\n",
    "# Evaluate the KNN classifier on the test data\n",
    "knn_test_data_prediction = knn_classifier.predict(X_test)\n",
    "\n",
    "# Calculate accuracy for the KNN classifier\n",
    "knn_acc = accuracy_score(Y_test, knn_test_data_prediction)\n",
    "\n",
    "# Display accuracy for the KNN classifier\n",
    "print()\n",
    "print(\" Accuracy score of k nearest neighbor classifier : \", knn_acc)"
   ]
  },
  {
   "cell_type": "markdown",
   "id": "b5d2d6b7",
   "metadata": {
    "papermill": {
     "duration": 0.009939,
     "end_time": "2023-11-05T07:25:51.118475",
     "exception": false,
     "start_time": "2023-11-05T07:25:51.108536",
     "status": "completed"
    },
    "tags": []
   },
   "source": [
    "# -> TRAINING MODEL USING NAIVE BAYES CLASSIFIER "
   ]
  },
  {
   "cell_type": "code",
   "execution_count": 13,
   "id": "2a881ef8",
   "metadata": {
    "execution": {
     "iopub.execute_input": "2023-11-05T07:25:51.139934Z",
     "iopub.status.busy": "2023-11-05T07:25:51.139508Z",
     "iopub.status.idle": "2023-11-05T07:25:51.158110Z",
     "shell.execute_reply": "2023-11-05T07:25:51.156828Z"
    },
    "papermill": {
     "duration": 0.032311,
     "end_time": "2023-11-05T07:25:51.160699",
     "exception": false,
     "start_time": "2023-11-05T07:25:51.128388",
     "status": "completed"
    },
    "tags": []
   },
   "outputs": [
    {
     "name": "stdout",
     "output_type": "stream",
     "text": [
      "\n",
      " Accuracy score of Naive Bayes classifier :  0.7597402597402597\n"
     ]
    }
   ],
   "source": [
    "# Import necessary libraries\n",
    "from sklearn.naive_bayes import GaussianNB\n",
    "\n",
    "# Create an instance of the Gaussian Naive Bayes classifier\n",
    "naive_bayes_classifier = GaussianNB()\n",
    "\n",
    "# Train the Naive Bayes classifier on the training data\n",
    "naive_bayes_classifier.fit(X_train, Y_train)\n",
    "\n",
    "# Evaluate the Naive Bayes classifier on the test data\n",
    "naive_bayes_test_data_prediction = naive_bayes_classifier.predict(X_test)\n",
    "\n",
    "# Calculate accuracy for the Naive Bayes classifier\n",
    "naive_bayes_acc = accuracy_score(Y_test, naive_bayes_test_data_prediction)\n",
    "\n",
    "# Display accuracy for the Naive Bayes classifier\n",
    "print()\n",
    "print(\" Accuracy score of Naive Bayes classifier : \", naive_bayes_acc)"
   ]
  },
  {
   "cell_type": "markdown",
   "id": "d61e32d3",
   "metadata": {
    "papermill": {
     "duration": 0.009587,
     "end_time": "2023-11-05T07:25:51.180102",
     "exception": false,
     "start_time": "2023-11-05T07:25:51.170515",
     "status": "completed"
    },
    "tags": []
   },
   "source": [
    "# -> TRAINING MODEL USING RANDOM FOREST CLASSIFIER "
   ]
  },
  {
   "cell_type": "code",
   "execution_count": 14,
   "id": "9dbc1eb9",
   "metadata": {
    "execution": {
     "iopub.execute_input": "2023-11-05T07:25:51.201660Z",
     "iopub.status.busy": "2023-11-05T07:25:51.200895Z",
     "iopub.status.idle": "2023-11-05T07:25:51.626889Z",
     "shell.execute_reply": "2023-11-05T07:25:51.625458Z"
    },
    "papermill": {
     "duration": 0.439486,
     "end_time": "2023-11-05T07:25:51.629375",
     "exception": false,
     "start_time": "2023-11-05T07:25:51.189889",
     "status": "completed"
    },
    "tags": []
   },
   "outputs": [
    {
     "name": "stdout",
     "output_type": "stream",
     "text": [
      "\n",
      " Accuracy score of Random Forest classifier : 0.7337662337662337\n"
     ]
    }
   ],
   "source": [
    "# Import necessary libraries\n",
    "from sklearn.ensemble import RandomForestClassifier\n",
    "# Create an instance of the Random Forest classifier\n",
    "random_forest_classifier = RandomForestClassifier()\n",
    "\n",
    "# Train the Random Forest classifier on the training data\n",
    "random_forest_classifier.fit(X_train, Y_train)\n",
    "\n",
    "# Evaluate the Random Forest classifier on the test data\n",
    "random_forest_test_data_prediction = random_forest_classifier.predict(X_test)\n",
    "\n",
    "# Calculate accuracy for the Random Forest classifier\n",
    "random_forest_acc = accuracy_score(Y_test, random_forest_test_data_prediction)\n",
    "\n",
    "# Display accuracy for the Random Forest classifier\n",
    "print()\n",
    "print(\" Accuracy score of Random Forest classifier :\", random_forest_acc)"
   ]
  },
  {
   "cell_type": "markdown",
   "id": "5a3a1bbf",
   "metadata": {
    "papermill": {
     "duration": 0.009569,
     "end_time": "2023-11-05T07:25:51.648830",
     "exception": false,
     "start_time": "2023-11-05T07:25:51.639261",
     "status": "completed"
    },
    "tags": []
   },
   "source": [
    "# -> COMPARING ACCURACY OF DIFFRENT MODELS "
   ]
  },
  {
   "cell_type": "code",
   "execution_count": 15,
   "id": "1b20d2c7",
   "metadata": {
    "execution": {
     "iopub.execute_input": "2023-11-05T07:25:51.670404Z",
     "iopub.status.busy": "2023-11-05T07:25:51.670035Z",
     "iopub.status.idle": "2023-11-05T07:25:52.024715Z",
     "shell.execute_reply": "2023-11-05T07:25:52.023511Z"
    },
    "papermill": {
     "duration": 0.368652,
     "end_time": "2023-11-05T07:25:52.027225",
     "exception": false,
     "start_time": "2023-11-05T07:25:51.658573",
     "status": "completed"
    },
    "tags": []
   },
   "outputs": [
    {
     "data": {
      "text/plain": [
       "<Axes: >"
      ]
     },
     "execution_count": 15,
     "metadata": {},
     "output_type": "execute_result"
    },
    {
     "data": {
      "image/png": "[encoded data removed]",
      "text/plain": [
       "<Figure size 1200x600 with 1 Axes>"
      ]
     },
     "metadata": {},
     "output_type": "display_data"
    }
   ],
   "source": [
    "# ploting graph to compare accuracy of diffrent models \n",
    "plt.figure(figsize=(12,6))\n",
    "\n",
    "model_acc = [logistic_acc,svm_acc,decision_tree_acc,knn_acc,naive_bayes_acc,random_forest_acc]\n",
    "model_name = ['LOGISTICREG..','SVM','DECISIONTREE','kNN','NAIVE BAYES','RANDOM FOREST']\n",
    "\n",
    "sns.barplot(x=model_acc, y=model_name,palette='magma')"
   ]
  }
 ],
 "metadata": {
  "kernelspec": {
   "display_name": "Python 3",
   "language": "python",
   "name": "python3"
  },
  "language_info": {
   "codemirror_mode": {
    "name": "ipython",
    "version": 3
   },
   "file_extension": ".py",
   "mimetype": "text/x-python",
   "name": "python",
   "nbconvert_exporter": "python",
   "pygments_lexer": "ipython3",
   "version": "3.10.12"
  },
  "papermill": {
   "default_parameters": {},
   "duration": 8.609911,
   "end_time": "2023-11-05T07:25:52.657703",
   "environment_variables": {},
   "exception": null,
   "input_path": "__notebook__.ipynb",
   "output_path": "__notebook__.ipynb",
   "parameters": {},
   "start_time": "2023-11-05T07:25:44.047792",
   "version": "2.4.0"
  }
 },
 "nbformat": 4,
 "nbformat_minor": 5
}
