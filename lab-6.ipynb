{
 "cells": [
  {
   "cell_type": "markdown",
   "id": "39f5800d",
   "metadata": {
    "papermill": {
     "duration": 0.004388,
     "end_time": "2023-11-04T14:32:03.992568",
     "exception": false,
     "start_time": "2023-11-04T14:32:03.988180",
     "status": "completed"
    },
    "tags": []
   },
   "source": [
    "# Thanki Disha Bhagvanjibhai [216270307024]"
   ]
  },
  {
   "cell_type": "markdown",
   "id": "adb3270a",
   "metadata": {
    "papermill": {
     "duration": 0.004025,
     "end_time": "2023-11-04T14:32:04.002931",
     "exception": false,
     "start_time": "2023-11-04T14:32:03.998906",
     "status": "completed"
    },
    "tags": []
   },
   "source": [
    "# practical 6"
   ]
  },
  {
   "cell_type": "markdown",
   "id": "caa509a4",
   "metadata": {
    "papermill": {
     "duration": 0.003627,
     "end_time": "2023-11-04T14:32:04.010569",
     "exception": false,
     "start_time": "2023-11-04T14:32:04.006942",
     "status": "completed"
    },
    "tags": []
   },
   "source": [
    "# 1. Write a Pandas program to convert a NumPy array to a Pandas series"
   ]
  },
  {
   "cell_type": "code",
   "execution_count": 1,
   "id": "6b76ee11",
   "metadata": {
    "execution": {
     "iopub.execute_input": "2023-11-04T14:32:04.021400Z",
     "iopub.status.busy": "2023-11-04T14:32:04.020599Z",
     "iopub.status.idle": "2023-11-04T14:32:04.918334Z",
     "shell.execute_reply": "2023-11-04T14:32:04.916995Z"
    },
    "papermill": {
     "duration": 0.907043,
     "end_time": "2023-11-04T14:32:04.921536",
     "exception": false,
     "start_time": "2023-11-04T14:32:04.014493",
     "status": "completed"
    },
    "tags": []
   },
   "outputs": [
    {
     "name": "stdout",
     "output_type": "stream",
     "text": [
      " ARRAY A :  [11 22 33 44 55]\n",
      "\n",
      " CONVERTED PANDAS SERIES : \n",
      "0    11\n",
      "1    22\n",
      "2    33\n",
      "3    44\n",
      "4    55\n",
      "dtype: int64\n"
     ]
    }
   ],
   "source": [
    "# importing numpy and pandas library\n",
    "import numpy as np\n",
    "import pandas as pd\n",
    "\n",
    "# creating numpy array \n",
    "a = np.array([11,22,33,44,55])\n",
    "\n",
    "# converting array a into pandas series \n",
    "s = pd.Series(a)\n",
    "\n",
    "# printing array a\n",
    "print(\" ARRAY A : \",a)\n",
    "print()\n",
    "\n",
    "# printing pandas series s \n",
    "print(\" CONVERTED PANDAS SERIES : \")\n",
    "print(s)"
   ]
  },
  {
   "cell_type": "markdown",
   "id": "e453026c",
   "metadata": {
    "papermill": {
     "duration": 0.003782,
     "end_time": "2023-11-04T14:32:04.929595",
     "exception": false,
     "start_time": "2023-11-04T14:32:04.925813",
     "status": "completed"
    },
    "tags": []
   },
   "source": [
    "# 2. Write a Pandas program to convert the first column of a DataFrame as a Series"
   ]
  },
  {
   "cell_type": "code",
   "execution_count": 2,
   "id": "c84d8ff8",
   "metadata": {
    "execution": {
     "iopub.execute_input": "2023-11-04T14:32:04.939580Z",
     "iopub.status.busy": "2023-11-04T14:32:04.939013Z",
     "iopub.status.idle": "2023-11-04T14:32:04.958578Z",
     "shell.execute_reply": "2023-11-04T14:32:04.957428Z"
    },
    "papermill": {
     "duration": 0.027701,
     "end_time": "2023-11-04T14:32:04.961341",
     "exception": false,
     "start_time": "2023-11-04T14:32:04.933640",
     "status": "completed"
    },
    "tags": []
   },
   "outputs": [
    {
     "name": "stdout",
     "output_type": "stream",
     "text": [
      "\n",
      " ACTUAL DATAFRAME : \n",
      "  Valuess  Numbers\n",
      "0   Oneee        1\n",
      "1    Twoo        2\n",
      "2  Threee        3\n",
      "3   Fourr        4\n",
      "\n",
      " DATAFRMAE'S FIRST COLUMN AS SERIES : \n",
      "0     Oneee\n",
      "1      Twoo\n",
      "2    Threee\n",
      "3     Fourr\n",
      "Name: Valuess, dtype: object\n",
      "\n"
     ]
    }
   ],
   "source": [
    "# importing numpy and pandas library\n",
    "import numpy as np\n",
    "import pandas as pd\n",
    "\n",
    "# creating Dataframe\n",
    "data = {'Valuess': ['Oneee', 'Twoo', 'Threee', 'Fourr'], 'Numbers': [1,2,3,4]}\n",
    "d = pd.DataFrame(data)\n",
    "# printing Dataframe\n",
    "print()\n",
    "print(\" ACTUAL DATAFRAME : \")\n",
    "print(d)\n",
    "\n",
    "# now , converting Dataframe's first Coulmn as series \n",
    "first_column_as_series = d.iloc[:,0]\n",
    "print()\n",
    "#printing first_column_as_series\n",
    "print(\" DATAFRMAE'S FIRST COLUMN AS SERIES : \")\n",
    "print(first_column_as_series)\n",
    "print()"
   ]
  },
  {
   "cell_type": "markdown",
   "id": "c2c8721f",
   "metadata": {
    "papermill": {
     "duration": 0.003933,
     "end_time": "2023-11-04T14:32:04.969501",
     "exception": false,
     "start_time": "2023-11-04T14:32:04.965568",
     "status": "completed"
    },
    "tags": []
   },
   "source": [
    "# 3. write a Pandas program to create the mean and standard deviation of the data of a given Series"
   ]
  },
  {
   "cell_type": "code",
   "execution_count": 3,
   "id": "fbf16512",
   "metadata": {
    "execution": {
     "iopub.execute_input": "2023-11-04T14:32:04.979978Z",
     "iopub.status.busy": "2023-11-04T14:32:04.979278Z",
     "iopub.status.idle": "2023-11-04T14:32:04.990830Z",
     "shell.execute_reply": "2023-11-04T14:32:04.989323Z"
    },
    "papermill": {
     "duration": 0.019808,
     "end_time": "2023-11-04T14:32:04.993284",
     "exception": false,
     "start_time": "2023-11-04T14:32:04.973476",
     "status": "completed"
    },
    "tags": []
   },
   "outputs": [
    {
     "name": "stdout",
     "output_type": "stream",
     "text": [
      "SERIES S : \n",
      "0     11\n",
      "1     22\n",
      "2     33\n",
      "3     44\n",
      "4     55\n",
      "5     66\n",
      "6     77\n",
      "7     88\n",
      "8     99\n",
      "9    100\n",
      "dtype: int64\n",
      "\n",
      "MEAN :  59.5\n",
      "STANDARD DEVIATION :  31.76738369250239\n"
     ]
    }
   ],
   "source": [
    "# importing numpy and pandas library\n",
    "import numpy as np\n",
    "import pandas as pd\n",
    "\n",
    "# creating series\n",
    "s = pd.Series([11,22,33,44,55,66,77,88,99,100])\n",
    "\n",
    "# printing series \n",
    "print(\"SERIES S : \")\n",
    "print(s)\n",
    "\n",
    "# calculating std deviation \n",
    "std_deviation = s.std()\n",
    "print()\n",
    "\n",
    "# printing the result of deviation and calculating mean\n",
    "print(\"MEAN : \",s.mean())\n",
    "print(\"STANDARD DEVIATION : \",std_deviation)"
   ]
  },
  {
   "cell_type": "markdown",
   "id": "a938e5bd",
   "metadata": {
    "papermill": {
     "duration": 0.003916,
     "end_time": "2023-11-04T14:32:05.001476",
     "exception": false,
     "start_time": "2023-11-04T14:32:04.997560",
     "status": "completed"
    },
    "tags": []
   },
   "source": [
    "# 4. Write a Pandas program to sort a given Series"
   ]
  },
  {
   "cell_type": "code",
   "execution_count": 4,
   "id": "f4100c02",
   "metadata": {
    "execution": {
     "iopub.execute_input": "2023-11-04T14:32:05.012309Z",
     "iopub.status.busy": "2023-11-04T14:32:05.011279Z",
     "iopub.status.idle": "2023-11-04T14:32:05.023838Z",
     "shell.execute_reply": "2023-11-04T14:32:05.022609Z"
    },
    "papermill": {
     "duration": 0.020838,
     "end_time": "2023-11-04T14:32:05.026520",
     "exception": false,
     "start_time": "2023-11-04T14:32:05.005682",
     "status": "completed"
    },
    "tags": []
   },
   "outputs": [
    {
     "name": "stdout",
     "output_type": "stream",
     "text": [
      "BEFORE SORTING SERIES S : \n",
      "0    23\n",
      "1    67\n",
      "2    89\n",
      "3    34\n",
      "4    67\n",
      "dtype: int64\n",
      "\n",
      "AFTER SORTING SERIES S : \n",
      "0    23\n",
      "3    34\n",
      "1    67\n",
      "4    67\n",
      "2    89\n",
      "dtype: int64\n"
     ]
    }
   ],
   "source": [
    "# importing numpy and pandas library\n",
    "import numpy as np\n",
    "import pandas as pd\n",
    "\n",
    "# creating series \n",
    "s = pd.Series([23,67,89,34,67])\n",
    "\n",
    "print(\"BEFORE SORTING SERIES S : \")\n",
    "print(s)\n",
    "print()\n",
    "\n",
    "print(\"AFTER SORTING SERIES S : \")\n",
    "print(s.sort_values(ascending=True))"
   ]
  },
  {
   "cell_type": "code",
   "execution_count": null,
   "id": "b1996dd9",
   "metadata": {
    "papermill": {
     "duration": 0.004211,
     "end_time": "2023-11-04T14:32:05.035287",
     "exception": false,
     "start_time": "2023-11-04T14:32:05.031076",
     "status": "completed"
    },
    "tags": []
   },
   "outputs": [],
   "source": []
  }
 ],
 "metadata": {
  "kernelspec": {
   "display_name": "Python 3",
   "language": "python",
   "name": "python3"
  },
  "language_info": {
   "codemirror_mode": {
    "name": "ipython",
    "version": 3
   },
   "file_extension": ".py",
   "mimetype": "text/x-python",
   "name": "python",
   "nbconvert_exporter": "python",
   "pygments_lexer": "ipython3",
   "version": "3.10.12"
  },
  "papermill": {
   "default_parameters": {},
   "duration": 5.451056,
   "end_time": "2023-11-04T14:32:05.561519",
   "environment_variables": {},
   "exception": null,
   "input_path": "__notebook__.ipynb",
   "output_path": "__notebook__.ipynb",
   "parameters": {},
   "start_time": "2023-11-04T14:32:00.110463",
   "version": "2.4.0"
  }
 },
 "nbformat": 4,
 "nbformat_minor": 5
}
