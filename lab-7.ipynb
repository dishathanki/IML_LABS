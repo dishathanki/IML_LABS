{
 "cells": [
  {
   "cell_type": "markdown",
   "id": "6f4946f1",
   "metadata": {
    "papermill": {
     "duration": 0.00337,
     "end_time": "2023-11-04T14:32:51.216629",
     "exception": false,
     "start_time": "2023-11-04T14:32:51.213259",
     "status": "completed"
    },
    "tags": []
   },
   "source": [
    "# Thanki Disha Bhagvanjibhai [216270307024]"
   ]
  },
  {
   "cell_type": "markdown",
   "id": "3b6c83d4",
   "metadata": {
    "papermill": {
     "duration": 0.004811,
     "end_time": "2023-11-04T14:32:51.224133",
     "exception": false,
     "start_time": "2023-11-04T14:32:51.219322",
     "status": "completed"
    },
    "tags": []
   },
   "source": [
    "# Practical 7"
   ]
  },
  {
   "cell_type": "markdown",
   "id": "350ac221",
   "metadata": {
    "papermill": {
     "duration": 0.002027,
     "end_time": "2023-11-04T14:32:51.228565",
     "exception": false,
     "start_time": "2023-11-04T14:32:51.226538",
     "status": "completed"
    },
    "tags": []
   },
   "source": [
    "# 1. Write a Pandas program to create a dataframe from a dictionary and display it."
   ]
  },
  {
   "cell_type": "code",
   "execution_count": 1,
   "id": "83c2372e",
   "metadata": {
    "execution": {
     "iopub.execute_input": "2023-11-04T14:32:51.235779Z",
     "iopub.status.busy": "2023-11-04T14:32:51.235112Z",
     "iopub.status.idle": "2023-11-04T14:32:52.115572Z",
     "shell.execute_reply": "2023-11-04T14:32:52.114613Z"
    },
    "papermill": {
     "duration": 0.886871,
     "end_time": "2023-11-04T14:32:52.117637",
     "exception": false,
     "start_time": "2023-11-04T14:32:51.230766",
     "status": "completed"
    },
    "tags": []
   },
   "outputs": [
    {
     "name": "stdout",
     "output_type": "stream",
     "text": [
      "\n",
      " DICTIONARY :\n",
      "{'Valuess': ['Oneee', 'Twoo', 'Threee', 'Fourr'], 'Numbers': [1, 2, 3, 4]}\n",
      "\n",
      "\n",
      " DATAFRAME : \n",
      "  Valuess  Numbers\n",
      "0   Oneee        1\n",
      "1    Twoo        2\n",
      "2  Threee        3\n",
      "3   Fourr        4\n",
      "\n"
     ]
    }
   ],
   "source": [
    "# Name : Disha Thanki\n",
    "# Enrollment Number : 216270307024 \n",
    "\n",
    "# importing pandas library\n",
    "import pandas as pd\n",
    "\n",
    "# creating dictionary \n",
    "data = {'Valuess': ['Oneee', 'Twoo', 'Threee', 'Fourr'], \n",
    "        'Numbers': [1,2,3,4]}\n",
    "# converting dictionary data into pandas Dataframe d\n",
    "d = pd.DataFrame(data)\n",
    "\n",
    "# printing dictionary \n",
    "print()\n",
    "print(\" DICTIONARY :\")\n",
    "print(data)\n",
    "print()\n",
    "\n",
    "# printing DataFrame\n",
    "print()\n",
    "print(\" DATAFRAME : \")\n",
    "print(d)\n",
    "print()"
   ]
  },
  {
   "cell_type": "markdown",
   "id": "983d5545",
   "metadata": {
    "papermill": {
     "duration": 0.002233,
     "end_time": "2023-11-04T14:32:52.122699",
     "exception": false,
     "start_time": "2023-11-04T14:32:52.120466",
     "status": "completed"
    },
    "tags": []
   },
   "source": [
    "# 2. Write a Pandas program to sort the DataFrame first by 'name' in ascending order."
   ]
  },
  {
   "cell_type": "code",
   "execution_count": 2,
   "id": "b9b6cb30",
   "metadata": {
    "execution": {
     "iopub.execute_input": "2023-11-04T14:32:52.131426Z",
     "iopub.status.busy": "2023-11-04T14:32:52.130489Z",
     "iopub.status.idle": "2023-11-04T14:32:52.150635Z",
     "shell.execute_reply": "2023-11-04T14:32:52.149898Z"
    },
    "papermill": {
     "duration": 0.027222,
     "end_time": "2023-11-04T14:32:52.152541",
     "exception": false,
     "start_time": "2023-11-04T14:32:52.125319",
     "status": "completed"
    },
    "tags": []
   },
   "outputs": [
    {
     "name": "stdout",
     "output_type": "stream",
     "text": [
      "\n",
      " BEFORE SORTING DATAFRAME : \n",
      "\n",
      "   Age Name\n",
      "0   12    A\n",
      "1   24    Z\n",
      "2   25    K\n",
      "3   56    B\n",
      "\n",
      " AFTER SORTING DATAFRAME : \n",
      "\n",
      "   Age Name\n",
      "0   12    A\n",
      "3   56    B\n",
      "2   25    K\n",
      "1   24    Z\n"
     ]
    }
   ],
   "source": [
    "# importing pandas library\n",
    "import pandas as pd\n",
    "\n",
    "# creating dictionary \n",
    "data = {'Age': [12,24,25,56], \n",
    "        'Name': ['A','Z','K','B']}\n",
    "# converting dictionary data into pandas Dataframe d\n",
    "d = pd.DataFrame(data)\n",
    "\n",
    "# printing Dataframe\n",
    "print()\n",
    "print(\" BEFORE SORTING DATAFRAME : \")\n",
    "print()\n",
    "print(d)\n",
    "\n",
    "# now , sorting dataframe first by name \n",
    "print()\n",
    "print(\" AFTER SORTING DATAFRAME : \")\n",
    "print()\n",
    "print(d.sort_values(by=['Name'],ascending=True))"
   ]
  },
  {
   "cell_type": "markdown",
   "id": "332e4031",
   "metadata": {
    "papermill": {
     "duration": 0.002452,
     "end_time": "2023-11-04T14:32:52.158062",
     "exception": false,
     "start_time": "2023-11-04T14:32:52.155610",
     "status": "completed"
    },
    "tags": []
   },
   "source": [
    "# 3. Write a Pandas program to delete the one specific column from the DataFrame."
   ]
  },
  {
   "cell_type": "code",
   "execution_count": 3,
   "id": "18da18db",
   "metadata": {
    "execution": {
     "iopub.execute_input": "2023-11-04T14:32:52.165079Z",
     "iopub.status.busy": "2023-11-04T14:32:52.164465Z",
     "iopub.status.idle": "2023-11-04T14:32:52.176383Z",
     "shell.execute_reply": "2023-11-04T14:32:52.175451Z"
    },
    "papermill": {
     "duration": 0.018916,
     "end_time": "2023-11-04T14:32:52.179422",
     "exception": false,
     "start_time": "2023-11-04T14:32:52.160506",
     "status": "completed"
    },
    "tags": []
   },
   "outputs": [
    {
     "name": "stdout",
     "output_type": "stream",
     "text": [
      "\n",
      " DATAFRAME BEOFRE DELETEING PERCENTAGE COLUMN : \n",
      "\n",
      "   Number Values percentage\n",
      "0      12      A        35%\n",
      "1      24      Z        78%\n",
      "2      25      K        67%\n",
      "3      56      B        89%\n",
      "\n",
      " DATAFRAME AFTER DELETEING PERCENTAGE COLUMN : \n",
      "\n",
      "   Number Values\n",
      "0      12      A\n",
      "1      24      Z\n",
      "2      25      K\n",
      "3      56      B\n"
     ]
    }
   ],
   "source": [
    "# Name : Disha Thanki\n",
    "# Enrollment Number : 216270307024 \n",
    "\n",
    "# importing pandas library\n",
    "import pandas as pd\n",
    "\n",
    "# creating DataFrame\n",
    "data = {'Number': [12,24,25,56],\n",
    "        'Values': ['A','Z','K','B'],\n",
    "        'percentage': ['35%','78%','67%','89%']}\n",
    "\n",
    "d = pd.DataFrame(data)\n",
    "\n",
    "# printing DataFrame\n",
    "print()\n",
    "print(\" DATAFRAME BEOFRE DELETEING PERCENTAGE COLUMN : \")\n",
    "print()\n",
    "print(d)\n",
    "\n",
    "# deleting percentage column from DataFrame d\n",
    "d.__delitem__('percentage') \n",
    "\n",
    "# again printing DataFrame After deleting one column \n",
    "print()\n",
    "print(\" DATAFRAME AFTER DELETEING PERCENTAGE COLUMN : \")\n",
    "print()\n",
    "print(d)"
   ]
  },
  {
   "cell_type": "markdown",
   "id": "3be06cce",
   "metadata": {
    "papermill": {
     "duration": 0.003329,
     "end_time": "2023-11-04T14:32:52.186895",
     "exception": false,
     "start_time": "2023-11-04T14:32:52.183566",
     "status": "completed"
    },
    "tags": []
   },
   "source": [
    "# 4. Write a Pandas program to write a DataFrame to CSV file using tab separator."
   ]
  },
  {
   "cell_type": "code",
   "execution_count": 4,
   "id": "c31fc8d7",
   "metadata": {
    "execution": {
     "iopub.execute_input": "2023-11-04T14:32:52.196678Z",
     "iopub.status.busy": "2023-11-04T14:32:52.195877Z",
     "iopub.status.idle": "2023-11-04T14:32:52.211894Z",
     "shell.execute_reply": "2023-11-04T14:32:52.210924Z"
    },
    "papermill": {
     "duration": 0.02391,
     "end_time": "2023-11-04T14:32:52.214453",
     "exception": false,
     "start_time": "2023-11-04T14:32:52.190543",
     "status": "completed"
    },
    "tags": []
   },
   "outputs": [
    {
     "name": "stdout",
     "output_type": "stream",
     "text": [
      "\n",
      "DATAFRAME\n",
      "\n",
      "      Name  Age         City\n",
      "0    Alice   25     New York\n",
      "1      Bob   30  Los Angeles\n",
      "2  Charlie   35      Chicago\n",
      "\n",
      "DataFrame has been saved to E:\\SEM_5\\ML\\p7_4_csv.xlsx with tab separator.\n"
     ]
    }
   ],
   "source": [
    "# importing pandas library\n",
    "import pandas as pd\n",
    "\n",
    "# creating DataFrame\n",
    "data = {'Name': ['Alice', 'Bob', 'Charlie'],\n",
    "        'Age': [25, 30, 35],\n",
    "        'City': ['New York', 'Los Angeles', 'Chicago']}\n",
    "d = pd.DataFrame(data)\n",
    "\n",
    "# printing Dataframe\n",
    "print()\n",
    "print(\"DATAFRAME\")\n",
    "print()\n",
    "print(d)\n",
    "\n",
    "# Specifing the file path where i want to save the CSV file\n",
    "file_path = 'E:\\SEM_5\\ML\\p7_4_csv.xlsx'\n",
    "\n",
    "# Writing the DataFrame to a CSV file with tab separator\n",
    "d.to_csv(file_path, sep='\\t', index=False)\n",
    "print()\n",
    "print(f'DataFrame has been saved to {file_path} with tab separator.')"
   ]
  }
 ],
 "metadata": {
  "kernelspec": {
   "display_name": "Python 3",
   "language": "python",
   "name": "python3"
  },
  "language_info": {
   "codemirror_mode": {
    "name": "ipython",
    "version": 3
   },
   "file_extension": ".py",
   "mimetype": "text/x-python",
   "name": "python",
   "nbconvert_exporter": "python",
   "pygments_lexer": "ipython3",
   "version": "3.10.12"
  },
  "papermill": {
   "default_parameters": {},
   "duration": 4.858027,
   "end_time": "2023-11-04T14:32:52.841859",
   "environment_variables": {},
   "exception": null,
   "input_path": "__notebook__.ipynb",
   "output_path": "__notebook__.ipynb",
   "parameters": {},
   "start_time": "2023-11-04T14:32:47.983832",
   "version": "2.4.0"
  }
 },
 "nbformat": 4,
 "nbformat_minor": 5
}
