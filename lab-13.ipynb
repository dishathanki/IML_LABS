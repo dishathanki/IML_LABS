{
 "cells": [
  {
   "cell_type": "markdown",
   "id": "df251a98",
   "metadata": {
    "papermill": {
     "duration": 0.004122,
     "end_time": "2023-11-04T15:31:27.122281",
     "exception": false,
     "start_time": "2023-11-04T15:31:27.118159",
     "status": "completed"
    },
    "tags": []
   },
   "source": [
    "# Thanki Disha Bhagvanjibhai [216270307024]"
   ]
  },
  {
   "cell_type": "markdown",
   "id": "fb8aae1e",
   "metadata": {
    "papermill": {
     "duration": 0.005273,
     "end_time": "2023-11-04T15:31:27.131215",
     "exception": false,
     "start_time": "2023-11-04T15:31:27.125942",
     "status": "completed"
    },
    "tags": []
   },
   "source": [
    "# Practical 13"
   ]
  },
  {
   "cell_type": "markdown",
   "id": "ccf3bb61",
   "metadata": {
    "papermill": {
     "duration": 0.003038,
     "end_time": "2023-11-04T15:31:27.137711",
     "exception": false,
     "start_time": "2023-11-04T15:31:27.134673",
     "status": "completed"
    },
    "tags": []
   },
   "source": [
    "# 1. Write a Python program to implement K-Nearest Neighbour supervised machine learning algorithm for given dataset."
   ]
  },
  {
   "cell_type": "code",
   "execution_count": 1,
   "id": "5b627f1f",
   "metadata": {
    "execution": {
     "iopub.execute_input": "2023-11-04T15:31:27.146599Z",
     "iopub.status.busy": "2023-11-04T15:31:27.146116Z",
     "iopub.status.idle": "2023-11-04T15:31:29.251928Z",
     "shell.execute_reply": "2023-11-04T15:31:29.250384Z"
    },
    "papermill": {
     "duration": 2.114169,
     "end_time": "2023-11-04T15:31:29.255172",
     "exception": false,
     "start_time": "2023-11-04T15:31:27.141003",
     "status": "completed"
    },
    "tags": []
   },
   "outputs": [],
   "source": [
    "# importing files\n",
    "import pandas as pd\n",
    "from sklearn.model_selection import train_test_split\n",
    "from sklearn.neighbors import KNeighborsClassifier"
   ]
  },
  {
   "cell_type": "code",
   "execution_count": 2,
   "id": "f56026ce",
   "metadata": {
    "execution": {
     "iopub.execute_input": "2023-11-04T15:31:29.264653Z",
     "iopub.status.busy": "2023-11-04T15:31:29.263985Z",
     "iopub.status.idle": "2023-11-04T15:31:29.329394Z",
     "shell.execute_reply": "2023-11-04T15:31:29.328099Z"
    },
    "papermill": {
     "duration": 0.073649,
     "end_time": "2023-11-04T15:31:29.332383",
     "exception": false,
     "start_time": "2023-11-04T15:31:29.258734",
     "status": "completed"
    },
    "tags": []
   },
   "outputs": [
    {
     "data": {
      "text/html": [
       "<div>\n",
       "<style scoped>\n",
       "    .dataframe tbody tr th:only-of-type {\n",
       "        vertical-align: middle;\n",
       "    }\n",
       "\n",
       "    .dataframe tbody tr th {\n",
       "        vertical-align: top;\n",
       "    }\n",
       "\n",
       "    .dataframe thead th {\n",
       "        text-align: right;\n",
       "    }\n",
       "</style>\n",
       "<table border=\"1\" class=\"dataframe\">\n",
       "  <thead>\n",
       "    <tr style=\"text-align: right;\">\n",
       "      <th></th>\n",
       "      <th>long_hair</th>\n",
       "      <th>forehead_width_cm</th>\n",
       "      <th>forehead_height_cm</th>\n",
       "      <th>nose_wide</th>\n",
       "      <th>nose_long</th>\n",
       "      <th>lips_thin</th>\n",
       "      <th>distance_nose_to_lip_long</th>\n",
       "      <th>gender</th>\n",
       "    </tr>\n",
       "  </thead>\n",
       "  <tbody>\n",
       "    <tr>\n",
       "      <th>0</th>\n",
       "      <td>1</td>\n",
       "      <td>11.8</td>\n",
       "      <td>6.1</td>\n",
       "      <td>1</td>\n",
       "      <td>0</td>\n",
       "      <td>1</td>\n",
       "      <td>1</td>\n",
       "      <td>0</td>\n",
       "    </tr>\n",
       "    <tr>\n",
       "      <th>1</th>\n",
       "      <td>0</td>\n",
       "      <td>14.0</td>\n",
       "      <td>5.4</td>\n",
       "      <td>0</td>\n",
       "      <td>0</td>\n",
       "      <td>1</td>\n",
       "      <td>0</td>\n",
       "      <td>1</td>\n",
       "    </tr>\n",
       "    <tr>\n",
       "      <th>2</th>\n",
       "      <td>0</td>\n",
       "      <td>11.8</td>\n",
       "      <td>6.3</td>\n",
       "      <td>1</td>\n",
       "      <td>1</td>\n",
       "      <td>1</td>\n",
       "      <td>1</td>\n",
       "      <td>0</td>\n",
       "    </tr>\n",
       "    <tr>\n",
       "      <th>3</th>\n",
       "      <td>0</td>\n",
       "      <td>14.4</td>\n",
       "      <td>6.1</td>\n",
       "      <td>0</td>\n",
       "      <td>1</td>\n",
       "      <td>1</td>\n",
       "      <td>1</td>\n",
       "      <td>0</td>\n",
       "    </tr>\n",
       "    <tr>\n",
       "      <th>4</th>\n",
       "      <td>1</td>\n",
       "      <td>13.5</td>\n",
       "      <td>5.9</td>\n",
       "      <td>0</td>\n",
       "      <td>0</td>\n",
       "      <td>0</td>\n",
       "      <td>0</td>\n",
       "      <td>1</td>\n",
       "    </tr>\n",
       "  </tbody>\n",
       "</table>\n",
       "</div>"
      ],
      "text/plain": [
       "   long_hair  forehead_width_cm  forehead_height_cm  nose_wide  nose_long  \\\n",
       "0          1               11.8                 6.1          1          0   \n",
       "1          0               14.0                 5.4          0          0   \n",
       "2          0               11.8                 6.3          1          1   \n",
       "3          0               14.4                 6.1          0          1   \n",
       "4          1               13.5                 5.9          0          0   \n",
       "\n",
       "   lips_thin  distance_nose_to_lip_long  gender  \n",
       "0          1                          1       0  \n",
       "1          1                          0       1  \n",
       "2          1                          1       0  \n",
       "3          1                          1       0  \n",
       "4          0                          0       1  "
      ]
     },
     "execution_count": 2,
     "metadata": {},
     "output_type": "execute_result"
    }
   ],
   "source": [
    "# reading csv file\n",
    "data = pd.read_csv('/kaggle/input/gender-classification-dataset/gender_classification_v7.csv')\n",
    "\n",
    "# converting value of y from string to integer\n",
    "data.replace({'gender':{'Female':1,'Male':0}},inplace=True)\n",
    "data.head()"
   ]
  },
  {
   "cell_type": "code",
   "execution_count": 3,
   "id": "adb883a9",
   "metadata": {
    "execution": {
     "iopub.execute_input": "2023-11-04T15:31:29.342209Z",
     "iopub.status.busy": "2023-11-04T15:31:29.341809Z",
     "iopub.status.idle": "2023-11-04T15:31:29.358542Z",
     "shell.execute_reply": "2023-11-04T15:31:29.357486Z"
    },
    "papermill": {
     "duration": 0.025017,
     "end_time": "2023-11-04T15:31:29.361406",
     "exception": false,
     "start_time": "2023-11-04T15:31:29.336389",
     "status": "completed"
    },
    "tags": []
   },
   "outputs": [],
   "source": [
    "# defining X and Y and spliting data set into train and test\n",
    "\n",
    "X=data.drop(columns=['gender'])\n",
    "Y=data['gender']\n",
    "x_train,x_test,y_train,y_test=train_test_split(X,Y,train_size=0.70,test_size=0.30,random_state=100)"
   ]
  },
  {
   "cell_type": "code",
   "execution_count": 4,
   "id": "ab1597db",
   "metadata": {
    "execution": {
     "iopub.execute_input": "2023-11-04T15:31:29.371372Z",
     "iopub.status.busy": "2023-11-04T15:31:29.370697Z",
     "iopub.status.idle": "2023-11-04T15:31:29.391991Z",
     "shell.execute_reply": "2023-11-04T15:31:29.390491Z"
    },
    "papermill": {
     "duration": 0.029321,
     "end_time": "2023-11-04T15:31:29.394715",
     "exception": false,
     "start_time": "2023-11-04T15:31:29.365394",
     "status": "completed"
    },
    "tags": []
   },
   "outputs": [
    {
     "data": {
      "text/html": [
       "<style>#sk-container-id-1 {color: black;background-color: white;}#sk-container-id-1 pre{padding: 0;}#sk-container-id-1 div.sk-toggleable {background-color: white;}#sk-container-id-1 label.sk-toggleable__label {cursor: pointer;display: block;width: 100%;margin-bottom: 0;padding: 0.3em;box-sizing: border-box;text-align: center;}#sk-container-id-1 label.sk-toggleable__label-arrow:before {content: \"▸\";float: left;margin-right: 0.25em;color: #696969;}#sk-container-id-1 label.sk-toggleable__label-arrow:hover:before {color: black;}#sk-container-id-1 div.sk-estimator:hover label.sk-toggleable__label-arrow:before {color: black;}#sk-container-id-1 div.sk-toggleable__content {max-height: 0;max-width: 0;overflow: hidden;text-align: left;background-color: #f0f8ff;}#sk-container-id-1 div.sk-toggleable__content pre {margin: 0.2em;color: black;border-radius: 0.25em;background-color: #f0f8ff;}#sk-container-id-1 input.sk-toggleable__control:checked~div.sk-toggleable__content {max-height: 200px;max-width: 100%;overflow: auto;}#sk-container-id-1 input.sk-toggleable__control:checked~label.sk-toggleable__label-arrow:before {content: \"▾\";}#sk-container-id-1 div.sk-estimator input.sk-toggleable__control:checked~label.sk-toggleable__label {background-color: #d4ebff;}#sk-container-id-1 div.sk-label input.sk-toggleable__control:checked~label.sk-toggleable__label {background-color: #d4ebff;}#sk-container-id-1 input.sk-hidden--visually {border: 0;clip: rect(1px 1px 1px 1px);clip: rect(1px, 1px, 1px, 1px);height: 1px;margin: -1px;overflow: hidden;padding: 0;position: absolute;width: 1px;}#sk-container-id-1 div.sk-estimator {font-family: monospace;background-color: #f0f8ff;border: 1px dotted black;border-radius: 0.25em;box-sizing: border-box;margin-bottom: 0.5em;}#sk-container-id-1 div.sk-estimator:hover {background-color: #d4ebff;}#sk-container-id-1 div.sk-parallel-item::after {content: \"\";width: 100%;border-bottom: 1px solid gray;flex-grow: 1;}#sk-container-id-1 div.sk-label:hover label.sk-toggleable__label {background-color: #d4ebff;}#sk-container-id-1 div.sk-serial::before {content: \"\";position: absolute;border-left: 1px solid gray;box-sizing: border-box;top: 0;bottom: 0;left: 50%;z-index: 0;}#sk-container-id-1 div.sk-serial {display: flex;flex-direction: column;align-items: center;background-color: white;padding-right: 0.2em;padding-left: 0.2em;position: relative;}#sk-container-id-1 div.sk-item {position: relative;z-index: 1;}#sk-container-id-1 div.sk-parallel {display: flex;align-items: stretch;justify-content: center;background-color: white;position: relative;}#sk-container-id-1 div.sk-item::before, #sk-container-id-1 div.sk-parallel-item::before {content: \"\";position: absolute;border-left: 1px solid gray;box-sizing: border-box;top: 0;bottom: 0;left: 50%;z-index: -1;}#sk-container-id-1 div.sk-parallel-item {display: flex;flex-direction: column;z-index: 1;position: relative;background-color: white;}#sk-container-id-1 div.sk-parallel-item:first-child::after {align-self: flex-end;width: 50%;}#sk-container-id-1 div.sk-parallel-item:last-child::after {align-self: flex-start;width: 50%;}#sk-container-id-1 div.sk-parallel-item:only-child::after {width: 0;}#sk-container-id-1 div.sk-dashed-wrapped {border: 1px dashed gray;margin: 0 0.4em 0.5em 0.4em;box-sizing: border-box;padding-bottom: 0.4em;background-color: white;}#sk-container-id-1 div.sk-label label {font-family: monospace;font-weight: bold;display: inline-block;line-height: 1.2em;}#sk-container-id-1 div.sk-label-container {text-align: center;}#sk-container-id-1 div.sk-container {/* jupyter's `normalize.less` sets `[hidden] { display: none; }` but bootstrap.min.css set `[hidden] { display: none !important; }` so we also need the `!important` here to be able to override the default hidden behavior on the sphinx rendered scikit-learn.org. See: https://github.com/scikit-learn/scikit-learn/issues/21755 */display: inline-block !important;position: relative;}#sk-container-id-1 div.sk-text-repr-fallback {display: none;}</style><div id=\"sk-container-id-1\" class=\"sk-top-container\"><div class=\"sk-text-repr-fallback\"><pre>KNeighborsClassifier()</pre><b>In a Jupyter environment, please rerun this cell to show the HTML representation or trust the notebook. <br />On GitHub, the HTML representation is unable to render, please try loading this page with nbviewer.org.</b></div><div class=\"sk-container\" hidden><div class=\"sk-item\"><div class=\"sk-estimator sk-toggleable\"><input class=\"sk-toggleable__control sk-hidden--visually\" id=\"sk-estimator-id-1\" type=\"checkbox\" checked><label for=\"sk-estimator-id-1\" class=\"sk-toggleable__label sk-toggleable__label-arrow\">KNeighborsClassifier</label><div class=\"sk-toggleable__content\"><pre>KNeighborsClassifier()</pre></div></div></div></div></div>"
      ],
      "text/plain": [
       "KNeighborsClassifier()"
      ]
     },
     "execution_count": 4,
     "metadata": {},
     "output_type": "execute_result"
    }
   ],
   "source": [
    "# calling fit function \n",
    "\n",
    "model1=KNeighborsClassifier()\n",
    "model1.fit(x_train,y_train)"
   ]
  },
  {
   "cell_type": "code",
   "execution_count": 5,
   "id": "01656f9d",
   "metadata": {
    "execution": {
     "iopub.execute_input": "2023-11-04T15:31:29.405240Z",
     "iopub.status.busy": "2023-11-04T15:31:29.404748Z",
     "iopub.status.idle": "2023-11-04T15:31:29.526910Z",
     "shell.execute_reply": "2023-11-04T15:31:29.525555Z"
    },
    "papermill": {
     "duration": 0.130711,
     "end_time": "2023-11-04T15:31:29.529598",
     "exception": false,
     "start_time": "2023-11-04T15:31:29.398887",
     "status": "completed"
    },
    "tags": []
   },
   "outputs": [
    {
     "name": "stdout",
     "output_type": "stream",
     "text": [
      "Accuracy :  96.6688874083944\n"
     ]
    }
   ],
   "source": [
    "# finding accuracy of an trained model \n",
    "\n",
    "print(\"Accuracy : \",model1.score(x_test,y_test) * 100)"
   ]
  }
 ],
 "metadata": {
  "kernelspec": {
   "display_name": "Python 3",
   "language": "python",
   "name": "python3"
  },
  "language_info": {
   "codemirror_mode": {
    "name": "ipython",
    "version": 3
   },
   "file_extension": ".py",
   "mimetype": "text/x-python",
   "name": "python",
   "nbconvert_exporter": "python",
   "pygments_lexer": "ipython3",
   "version": "3.10.12"
  },
  "papermill": {
   "default_parameters": {},
   "duration": 7.038622,
   "end_time": "2023-11-04T15:31:30.357904",
   "environment_variables": {},
   "exception": null,
   "input_path": "__notebook__.ipynb",
   "output_path": "__notebook__.ipynb",
   "parameters": {},
   "start_time": "2023-11-04T15:31:23.319282",
   "version": "2.4.0"
  }
 },
 "nbformat": 4,
 "nbformat_minor": 5
}
