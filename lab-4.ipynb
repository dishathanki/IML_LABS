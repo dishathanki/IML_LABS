{
 "cells": [
  {
   "cell_type": "markdown",
   "id": "28ea1765",
   "metadata": {
    "papermill": {
     "duration": 0.003197,
     "end_time": "2023-11-04T14:30:44.972646",
     "exception": false,
     "start_time": "2023-11-04T14:30:44.969449",
     "status": "completed"
    },
    "tags": []
   },
   "source": [
    "# Thanki Disha Bhagvanjibhai [216270307024]"
   ]
  },
  {
   "cell_type": "markdown",
   "id": "4adf7af9",
   "metadata": {
    "papermill": {
     "duration": 0.002499,
     "end_time": "2023-11-04T14:30:44.980634",
     "exception": false,
     "start_time": "2023-11-04T14:30:44.978135",
     "status": "completed"
    },
    "tags": []
   },
   "source": [
    "# Practical 4"
   ]
  },
  {
   "cell_type": "markdown",
   "id": "03b7625f",
   "metadata": {
    "papermill": {
     "duration": 0.002268,
     "end_time": "2023-11-04T14:30:44.985397",
     "exception": false,
     "start_time": "2023-11-04T14:30:44.983129",
     "status": "completed"
    },
    "tags": []
   },
   "source": [
    "# 1. Write a numpy program to add, subtract, multiply, divide arguments element-wise\n"
   ]
  },
  {
   "cell_type": "code",
   "execution_count": 1,
   "id": "1eb3bb02",
   "metadata": {
    "execution": {
     "iopub.execute_input": "2023-11-04T14:30:44.992488Z",
     "iopub.status.busy": "2023-11-04T14:30:44.991625Z",
     "iopub.status.idle": "2023-11-04T14:30:45.007597Z",
     "shell.execute_reply": "2023-11-04T14:30:45.006376Z"
    },
    "papermill": {
     "duration": 0.022942,
     "end_time": "2023-11-04T14:30:45.010632",
     "exception": false,
     "start_time": "2023-11-04T14:30:44.987690",
     "status": "completed"
    },
    "tags": []
   },
   "outputs": [
    {
     "name": "stdout",
     "output_type": "stream",
     "text": [
      "\n",
      " ARRAY 1 + ARRAY 2 :  [ 2  4  6  8 10]\n",
      " ARRAY 1 - ARRAY 2 :  [0 0 0 0 0]\n",
      " ARRAY 1 * ARRAY 2 :  [ 1  4  9 16 25]\n",
      " ARRAY 1 / ARRAY 2 :  [1. 1. 1. 1. 1.]\n",
      "\n"
     ]
    }
   ],
   "source": [
    "# importing numpy library \n",
    "import numpy as np\n",
    "\n",
    "# creating array 1 \n",
    "a1 = np.array([1,2,3,4,5])\n",
    "# creating array 2\n",
    "a2 = np.array([1,2,3,4,5])\n",
    "print()\n",
    "\n",
    "#addition \n",
    "print(\" ARRAY 1 + ARRAY 2 : \",np.add(a1,a2))\n",
    "#subtraction\n",
    "print(\" ARRAY 1 - ARRAY 2 : \",np.subtract(a1,a2))\n",
    "#multiplication\n",
    "print(\" ARRAY 1 * ARRAY 2 : \",np.multiply(a1,a2))\n",
    "#divsion\n",
    "print(\" ARRAY 1 / ARRAY 2 : \",np.divide(a1,a2))\n",
    "print()"
   ]
  },
  {
   "cell_type": "markdown",
   "id": "6a829dd8",
   "metadata": {
    "papermill": {
     "duration": 0.002471,
     "end_time": "2023-11-04T14:30:45.015910",
     "exception": false,
     "start_time": "2023-11-04T14:30:45.013439",
     "status": "completed"
    },
    "tags": []
   },
   "source": [
    "# 2. Write a numpy program to round elements of the array to the nearest integer"
   ]
  },
  {
   "cell_type": "code",
   "execution_count": 2,
   "id": "0ddd8b6c",
   "metadata": {
    "execution": {
     "iopub.execute_input": "2023-11-04T14:30:45.022848Z",
     "iopub.status.busy": "2023-11-04T14:30:45.022525Z",
     "iopub.status.idle": "2023-11-04T14:30:45.029800Z",
     "shell.execute_reply": "2023-11-04T14:30:45.028638Z"
    },
    "papermill": {
     "duration": 0.013326,
     "end_time": "2023-11-04T14:30:45.031806",
     "exception": false,
     "start_time": "2023-11-04T14:30:45.018480",
     "status": "completed"
    },
    "tags": []
   },
   "outputs": [
    {
     "name": "stdout",
     "output_type": "stream",
     "text": [
      " ARRAY ELEMENTS BEFORE USING ROUND() :  [10.6 20.5 30.3 40.7 50.3]\n",
      "\n",
      " ARRAY ELEMENTS AFTER USING ROUND() :  [11. 20. 30. 41. 50.]\n"
     ]
    }
   ],
   "source": [
    "# importing numpy library \n",
    "import numpy as np\n",
    "\n",
    "#creating array \n",
    "a = np.array([10.6,20.5,30.3,40.7,50.3])\n",
    "print(\" ARRAY ELEMENTS BEFORE USING ROUND() : \",a)\n",
    "print()\n",
    "\n",
    "#rounding elements of array a to their nearest value\n",
    "print(\" ARRAY ELEMENTS AFTER USING ROUND() : \",np.round(a))"
   ]
  },
  {
   "cell_type": "markdown",
   "id": "e4b439c0",
   "metadata": {
    "papermill": {
     "duration": 0.002752,
     "end_time": "2023-11-04T14:30:45.037492",
     "exception": false,
     "start_time": "2023-11-04T14:30:45.034740",
     "status": "completed"
    },
    "tags": []
   },
   "source": [
    "# 3. Write a numpy program to calculate mean across dimension, in a 2D numpy array\n"
   ]
  },
  {
   "cell_type": "code",
   "execution_count": 3,
   "id": "1ce1bc91",
   "metadata": {
    "execution": {
     "iopub.execute_input": "2023-11-04T14:30:45.045194Z",
     "iopub.status.busy": "2023-11-04T14:30:45.044831Z",
     "iopub.status.idle": "2023-11-04T14:30:45.052673Z",
     "shell.execute_reply": "2023-11-04T14:30:45.051167Z"
    },
    "papermill": {
     "duration": 0.014599,
     "end_time": "2023-11-04T14:30:45.054991",
     "exception": false,
     "start_time": "2023-11-04T14:30:45.040392",
     "status": "completed"
    },
    "tags": []
   },
   "outputs": [
    {
     "name": "stdout",
     "output_type": "stream",
     "text": [
      "\n",
      "[[1 2 3 4 5]\n",
      " [1 2 3 4 5]]\n",
      " MEAN OF ARRAY ALONG AXIS = 0 :  [1. 2. 3. 4. 5.]\n",
      " MEAN OF ARRAY ALONG AXIS = 1 :  [3. 3.]\n",
      "\n"
     ]
    }
   ],
   "source": [
    "# importing numpy library \n",
    "import numpy as np\n",
    "\n",
    "#creating array \n",
    "array = np.array([ [1,2,3,4,5] , [1,2,3,4,5] ])\n",
    "print()\n",
    "\n",
    "# printing array\n",
    "print(array)\n",
    "# mean along axis 0\n",
    "print(\" MEAN OF ARRAY ALONG AXIS = 0 : \", np.mean(array, axis=0))\n",
    "# mean along axis 1\n",
    "print(\" MEAN OF ARRAY ALONG AXIS = 1 : \", np.mean(array, axis=1))\n",
    "print()"
   ]
  },
  {
   "cell_type": "markdown",
   "id": "dbb1c7bd",
   "metadata": {
    "papermill": {
     "duration": 0.002697,
     "end_time": "2023-11-04T14:30:45.060669",
     "exception": false,
     "start_time": "2023-11-04T14:30:45.057972",
     "status": "completed"
    },
    "tags": []
   },
   "source": [
    "# 4. Write a program to calculate the difference between neighboring elements, element\u0002wise of a given array"
   ]
  },
  {
   "cell_type": "code",
   "execution_count": 4,
   "id": "ea1bdb88",
   "metadata": {
    "execution": {
     "iopub.execute_input": "2023-11-04T14:30:45.068518Z",
     "iopub.status.busy": "2023-11-04T14:30:45.068206Z",
     "iopub.status.idle": "2023-11-04T14:30:45.074758Z",
     "shell.execute_reply": "2023-11-04T14:30:45.074120Z"
    },
    "papermill": {
     "duration": 0.013961,
     "end_time": "2023-11-04T14:30:45.077550",
     "exception": false,
     "start_time": "2023-11-04T14:30:45.063589",
     "status": "completed"
    },
    "tags": []
   },
   "outputs": [
    {
     "name": "stdout",
     "output_type": "stream",
     "text": [
      "DIFFRENCE FOR ARRAY1 l \n",
      "[11 11 11 11]\n",
      "\n",
      "DIFFRENCE FOR ARRAY1 2 \n",
      "[[ 21  -9]\n",
      " [  5 -17]]\n",
      "\n",
      "DIFFRENCE FOR ARRAY1 3 \n",
      "[[[ 11  11]\n",
      "  [  8  11]\n",
      "  [ 20 -53]]]\n",
      "\n"
     ]
    }
   ],
   "source": [
    "# importing numpy library \n",
    "import numpy as np\n",
    "\n",
    "# creating one dimensonal array \n",
    "a1 = np.array([11,22,33,44,55])\n",
    "# creating two dimensonal array \n",
    "a2 = np.array([ [1,22,13] , [48,53,36] ])\n",
    "# creating three dimensonal array \n",
    "a3 = np.array( [  [ [11,22,33] , [43,51,62] , [67,87,34] ] ] )\n",
    "\n",
    "# finding diffrence for a1 - one dimensonal array\n",
    "print(\"DIFFRENCE FOR ARRAY1 l \")\n",
    "print(np.diff(a1))\n",
    "print()\n",
    "\n",
    "# finding diffrence for a2 - Two dimensonal array\n",
    "print(\"DIFFRENCE FOR ARRAY1 2 \")\n",
    "print(np.diff(a2))\n",
    "print()\n",
    "\n",
    "# finding diffrence for a3 - Three dimensonal array\n",
    "print(\"DIFFRENCE FOR ARRAY1 3 \")\n",
    "print(np.diff(a3))\n",
    "print()\n"
   ]
  },
  {
   "cell_type": "code",
   "execution_count": null,
   "id": "a47832f4",
   "metadata": {
    "papermill": {
     "duration": 0.002479,
     "end_time": "2023-11-04T14:30:45.082921",
     "exception": false,
     "start_time": "2023-11-04T14:30:45.080442",
     "status": "completed"
    },
    "tags": []
   },
   "outputs": [],
   "source": []
  }
 ],
 "metadata": {
  "kernelspec": {
   "display_name": "Python 3",
   "language": "python",
   "name": "python3"
  },
  "language_info": {
   "codemirror_mode": {
    "name": "ipython",
    "version": 3
   },
   "file_extension": ".py",
   "mimetype": "text/x-python",
   "name": "python",
   "nbconvert_exporter": "python",
   "pygments_lexer": "ipython3",
   "version": "3.10.12"
  },
  "papermill": {
   "default_parameters": {},
   "duration": 3.531323,
   "end_time": "2023-11-04T14:30:45.404161",
   "environment_variables": {},
   "exception": null,
   "input_path": "__notebook__.ipynb",
   "output_path": "__notebook__.ipynb",
   "parameters": {},
   "start_time": "2023-11-04T14:30:41.872838",
   "version": "2.4.0"
  }
 },
 "nbformat": 4,
 "nbformat_minor": 5
}
