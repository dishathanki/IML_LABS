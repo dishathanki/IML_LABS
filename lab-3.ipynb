{
 "cells": [
  {
   "cell_type": "markdown",
   "id": "3afdad03",
   "metadata": {
    "papermill": {
     "duration": 0.005325,
     "end_time": "2023-09-01T16:40:35.002896",
     "exception": false,
     "start_time": "2023-09-01T16:40:34.997571",
     "status": "completed"
    },
    "tags": []
   },
   "source": [
    "# Thanki Disha Bhagvanjibhai [216270307024]"
   ]
  },
  {
   "cell_type": "markdown",
   "id": "75ad315d",
   "metadata": {
    "papermill": {
     "duration": 0.004536,
     "end_time": "2023-09-01T16:40:35.012650",
     "exception": false,
     "start_time": "2023-09-01T16:40:35.008114",
     "status": "completed"
    },
    "tags": []
   },
   "source": [
    "# practical 3 "
   ]
  },
  {
   "cell_type": "markdown",
   "id": "96e44044",
   "metadata": {
    "papermill": {
     "duration": 0.004315,
     "end_time": "2023-09-01T16:40:35.021451",
     "exception": false,
     "start_time": "2023-09-01T16:40:35.017136",
     "status": "completed"
    },
    "tags": []
   },
   "source": [
    "# 1. write a numpy program to split an array of 14 elements into 3 arrays, each with 2, 4, and 8 elements in the original order"
   ]
  },
  {
   "cell_type": "code",
   "execution_count": 1,
   "id": "eeee04f2",
   "metadata": {
    "execution": {
     "iopub.execute_input": "2023-09-01T16:40:35.032634Z",
     "iopub.status.busy": "2023-09-01T16:40:35.031999Z",
     "iopub.status.idle": "2023-09-01T16:40:35.048795Z",
     "shell.execute_reply": "2023-09-01T16:40:35.047908Z"
    },
    "papermill": {
     "duration": 0.025476,
     "end_time": "2023-09-01T16:40:35.051258",
     "exception": false,
     "start_time": "2023-09-01T16:40:35.025782",
     "status": "completed"
    },
    "tags": []
   },
   "outputs": [
    {
     "name": "stdout",
     "output_type": "stream",
     "text": [
      " ARRAY :  [ 1  2  3  4  5  6  7  8  9 10 11 12 13 14]\n",
      "\n",
      "[array([1, 2]), array([3, 4, 5, 6]), array([ 7,  8,  9, 10, 11, 12, 13, 14])]\n"
     ]
    }
   ],
   "source": [
    "# importing library\n",
    "import numpy as np\n",
    "\n",
    "# creating array of 14 elements \n",
    "array = np.array([1,2,3,4,5,6,7,8,9,10,11,12,13,14])\n",
    "print(\" ARRAY : \",array)\n",
    "\n",
    "# splitting array of 14 elements into 2 4 8 order\n",
    "print()\n",
    "a1  = np.split(array,[2,6])\n",
    "print(a1)"
   ]
  },
  {
   "cell_type": "markdown",
   "id": "e75c13e8",
   "metadata": {
    "papermill": {
     "duration": 0.004102,
     "end_time": "2023-09-01T16:40:35.059955",
     "exception": false,
     "start_time": "2023-09-01T16:40:35.055853",
     "status": "completed"
    },
    "tags": []
   },
   "source": [
    "# 2. write a numpy program to to stack arrays horizontally (column wise)"
   ]
  },
  {
   "cell_type": "code",
   "execution_count": 2,
   "id": "6494fb98",
   "metadata": {
    "execution": {
     "iopub.execute_input": "2023-09-01T16:40:35.071610Z",
     "iopub.status.busy": "2023-09-01T16:40:35.070240Z",
     "iopub.status.idle": "2023-09-01T16:40:35.079150Z",
     "shell.execute_reply": "2023-09-01T16:40:35.078027Z"
    },
    "papermill": {
     "duration": 0.01704,
     "end_time": "2023-09-01T16:40:35.081383",
     "exception": false,
     "start_time": "2023-09-01T16:40:35.064343",
     "status": "completed"
    },
    "tags": []
   },
   "outputs": [
    {
     "name": "stdout",
     "output_type": "stream",
     "text": [
      "\n",
      " ARRAY a1 :  [1 2 3 4]\n",
      " ARRAY a2 :  [5 6]\n",
      "\n",
      " ARRAY a3 :  [1 2 3 4 5 6]\n"
     ]
    }
   ],
   "source": [
    "# importing library \n",
    "import numpy as np\n",
    "\n",
    "# creating first array \n",
    "a1 = np.array([1,2,3,4])\n",
    "\n",
    "# creating second array \n",
    "a2 = np.array([5,6])\n",
    "\n",
    "# printing a1 and a2 before stacking them \n",
    "print()\n",
    "print(\" ARRAY a1 : \",a1)\n",
    "print(\" ARRAY a2 : \",a2)\n",
    "\n",
    "# stacking it into third new array \n",
    "new_array = np.hstack([a1,a2])\n",
    "\n",
    "# priting a3\n",
    "print()\n",
    "print(\" ARRAY a3 : \",new_array)"
   ]
  }
 ],
 "kernelspec": {
  "display_name": "Python 3",
  "language": "python",
  "name": "python3"
 },
 "language_info": {
  "codemirror_mode": {
   "name": "ipython",
   "version": 3
  },
  "file_extension": ".py",
  "mimetype": "text/x-python",
  "name": "python",
  "nbconvert_exporter": "python",
  "pygments_lexer": "ipython3",
  "version": "3.6.4"
 },
 "metadata": {
  "kernelspec": {
   "display_name": "Python 3",
   "language": "python",
   "name": "python3"
  },
  "language_info": {
   "codemirror_mode": {
    "name": "ipython",
    "version": 3
   },
   "file_extension": ".py",
   "mimetype": "text/x-python",
   "name": "python",
   "nbconvert_exporter": "python",
   "pygments_lexer": "ipython3",
   "version": "3.10.12"
  },
  "papermill": {
   "default_parameters": {},
   "duration": 5.701863,
   "end_time": "2023-09-01T16:40:35.608190",
   "environment_variables": {},
   "exception": null,
   "input_path": "__notebook__.ipynb",
   "output_path": "__notebook__.ipynb",
   "parameters": {},
   "start_time": "2023-09-01T16:40:29.906327",
   "version": "2.4.0"
  }
 },
 "nbformat": 4,
 "nbformat_minor": 5
}
