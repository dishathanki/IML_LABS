{
 "cells": [
  {
   "cell_type": "markdown",
   "id": "95e2628d",
   "metadata": {
    "papermill": {
     "duration": 0.00324,
     "end_time": "2023-11-04T14:30:08.389482",
     "exception": false,
     "start_time": "2023-11-04T14:30:08.386242",
     "status": "completed"
    },
    "tags": []
   },
   "source": [
    "# Thanki Disha Bhagvanjibhai [216270307024]"
   ]
  },
  {
   "cell_type": "markdown",
   "id": "e2eee36b",
   "metadata": {
    "papermill": {
     "duration": 0.002366,
     "end_time": "2023-11-04T14:30:08.394820",
     "exception": false,
     "start_time": "2023-11-04T14:30:08.392454",
     "status": "completed"
    },
    "tags": []
   },
   "source": [
    "# practical 3 "
   ]
  },
  {
   "cell_type": "markdown",
   "id": "b25b3129",
   "metadata": {
    "papermill": {
     "duration": 0.002381,
     "end_time": "2023-11-04T14:30:08.402023",
     "exception": false,
     "start_time": "2023-11-04T14:30:08.399642",
     "status": "completed"
    },
    "tags": []
   },
   "source": [
    "# 1. write a numpy program to split an array of 14 elements into 3 arrays, each with 2, 4, and 8 elements in the original order"
   ]
  },
  {
   "cell_type": "code",
   "execution_count": 1,
   "id": "4aa703e4",
   "metadata": {
    "execution": {
     "iopub.execute_input": "2023-11-04T14:30:08.409357Z",
     "iopub.status.busy": "2023-11-04T14:30:08.408588Z",
     "iopub.status.idle": "2023-11-04T14:30:08.423959Z",
     "shell.execute_reply": "2023-11-04T14:30:08.423178Z"
    },
    "papermill": {
     "duration": 0.021897,
     "end_time": "2023-11-04T14:30:08.426501",
     "exception": false,
     "start_time": "2023-11-04T14:30:08.404604",
     "status": "completed"
    },
    "tags": []
   },
   "outputs": [
    {
     "name": "stdout",
     "output_type": "stream",
     "text": [
      " ARRAY :  [ 1  2  3  4  5  6  7  8  9 10 11 12 13 14]\n",
      "\n",
      "[array([1, 2]), array([3, 4, 5, 6]), array([ 7,  8,  9, 10, 11, 12, 13, 14])]\n"
     ]
    }
   ],
   "source": [
    "# importing library\n",
    "import numpy as np\n",
    "\n",
    "# creating array of 14 elements \n",
    "array = np.array([1,2,3,4,5,6,7,8,9,10,11,12,13,14])\n",
    "print(\" ARRAY : \",array)\n",
    "\n",
    "# splitting array of 14 elements into 2 4 8 order\n",
    "print()\n",
    "a1  = np.split(array,[2,6])\n",
    "print(a1)"
   ]
  },
  {
   "cell_type": "markdown",
   "id": "9f25b798",
   "metadata": {
    "papermill": {
     "duration": 0.002775,
     "end_time": "2023-11-04T14:30:08.432521",
     "exception": false,
     "start_time": "2023-11-04T14:30:08.429746",
     "status": "completed"
    },
    "tags": []
   },
   "source": [
    "# 2. write a numpy program to to stack arrays horizontally (column wise)"
   ]
  },
  {
   "cell_type": "code",
   "execution_count": 2,
   "id": "d7962e46",
   "metadata": {
    "execution": {
     "iopub.execute_input": "2023-11-04T14:30:08.440271Z",
     "iopub.status.busy": "2023-11-04T14:30:08.439805Z",
     "iopub.status.idle": "2023-11-04T14:30:08.447624Z",
     "shell.execute_reply": "2023-11-04T14:30:08.446529Z"
    },
    "papermill": {
     "duration": 0.014802,
     "end_time": "2023-11-04T14:30:08.450186",
     "exception": false,
     "start_time": "2023-11-04T14:30:08.435384",
     "status": "completed"
    },
    "tags": []
   },
   "outputs": [
    {
     "name": "stdout",
     "output_type": "stream",
     "text": [
      "\n",
      " ARRAY a1 :  [1 2 3 4]\n",
      " ARRAY a2 :  [5 6]\n",
      "\n",
      " ARRAY a3 :  [1 2 3 4 5 6]\n"
     ]
    }
   ],
   "source": [
    "# importing library \n",
    "import numpy as np\n",
    "\n",
    "# creating first array \n",
    "a1 = np.array([1,2,3,4])\n",
    "\n",
    "# creating second array \n",
    "a2 = np.array([5,6])\n",
    "\n",
    "# printing a1 and a2 before stacking them \n",
    "print()\n",
    "print(\" ARRAY a1 : \",a1)\n",
    "print(\" ARRAY a2 : \",a2)\n",
    "\n",
    "# stacking it into third new array \n",
    "new_array = np.hstack([a1,a2])\n",
    "\n",
    "# priting a3\n",
    "print()\n",
    "print(\" ARRAY a3 : \",new_array)"
   ]
  }
 ],
 "metadata": {
  "kernelspec": {
   "display_name": "Python 3",
   "language": "python",
   "name": "python3"
  },
  "language_info": {
   "codemirror_mode": {
    "name": "ipython",
    "version": 3
   },
   "file_extension": ".py",
   "mimetype": "text/x-python",
   "name": "python",
   "nbconvert_exporter": "python",
   "pygments_lexer": "ipython3",
   "version": "3.10.12"
  },
  "papermill": {
   "default_parameters": {},
   "duration": 4.321474,
   "end_time": "2023-11-04T14:30:08.873495",
   "environment_variables": {},
   "exception": null,
   "input_path": "__notebook__.ipynb",
   "output_path": "__notebook__.ipynb",
   "parameters": {},
   "start_time": "2023-11-04T14:30:04.552021",
   "version": "2.4.0"
  }
 },
 "nbformat": 4,
 "nbformat_minor": 5
}
