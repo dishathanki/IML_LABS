{
 "cells": [
  {
   "cell_type": "markdown",
   "id": "1d4cd298",
   "metadata": {
    "papermill": {
     "duration": 0.006466,
     "end_time": "2023-09-01T12:18:41.450331",
     "exception": false,
     "start_time": "2023-09-01T12:18:41.443865",
     "status": "completed"
    },
    "tags": []
   },
   "source": [
    "# thanki Disha Bhagvanjibhai [216270307024]"
   ]
  },
  {
   "cell_type": "markdown",
   "id": "d318be45",
   "metadata": {
    "papermill": {
     "duration": 0.003972,
     "end_time": "2023-09-01T12:18:41.458873",
     "exception": false,
     "start_time": "2023-09-01T12:18:41.454901",
     "status": "completed"
    },
    "tags": []
   },
   "source": [
    "# practical 3 "
   ]
  },
  {
   "cell_type": "markdown",
   "id": "d249613d",
   "metadata": {
    "papermill": {
     "duration": 0.003842,
     "end_time": "2023-09-01T12:18:41.466771",
     "exception": false,
     "start_time": "2023-09-01T12:18:41.462929",
     "status": "completed"
    },
    "tags": []
   },
   "source": [
    "# 1. write a numpy program to split an array of 14 elements into 3 arrays, each with 2, 4, and 8 elements in the original order"
   ]
  },
  {
   "cell_type": "code",
   "execution_count": 1,
   "id": "4616020f",
   "metadata": {
    "execution": {
     "iopub.execute_input": "2023-09-01T12:18:41.477364Z",
     "iopub.status.busy": "2023-09-01T12:18:41.476686Z",
     "iopub.status.idle": "2023-09-01T12:18:41.492282Z",
     "shell.execute_reply": "2023-09-01T12:18:41.491436Z"
    },
    "papermill": {
     "duration": 0.023889,
     "end_time": "2023-09-01T12:18:41.494737",
     "exception": false,
     "start_time": "2023-09-01T12:18:41.470848",
     "status": "completed"
    },
    "tags": []
   },
   "outputs": [
    {
     "name": "stdout",
     "output_type": "stream",
     "text": [
      " ARRAY :  [ 1  2  3  4  5  6  7  8  9 10 11 12 13 14]\n",
      "\n",
      "[array([1, 2]), array([3, 4, 5, 6]), array([ 7,  8,  9, 10, 11, 12, 13, 14])]\n"
     ]
    }
   ],
   "source": [
    "# importing library\n",
    "import numpy as np\n",
    "\n",
    "# creating array of 14 elements \n",
    "array = np.array([1,2,3,4,5,6,7,8,9,10,11,12,13,14])\n",
    "print(\" ARRAY : \",array)\n",
    "\n",
    "# splitting array of 14 elements into 2 4 8 order\n",
    "print()\n",
    "a1  = np.split(array,[2,6])\n",
    "print(a1)"
   ]
  },
  {
   "cell_type": "markdown",
   "id": "190f6521",
   "metadata": {
    "papermill": {
     "duration": 0.004136,
     "end_time": "2023-09-01T12:18:41.503424",
     "exception": false,
     "start_time": "2023-09-01T12:18:41.499288",
     "status": "completed"
    },
    "tags": []
   },
   "source": [
    "# 2. write a numpy program to to stack arrays horizontally (column wise)"
   ]
  },
  {
   "cell_type": "code",
   "execution_count": 2,
   "id": "ee7bb336",
   "metadata": {
    "execution": {
     "iopub.execute_input": "2023-09-01T12:18:41.514150Z",
     "iopub.status.busy": "2023-09-01T12:18:41.513556Z",
     "iopub.status.idle": "2023-09-01T12:18:41.521875Z",
     "shell.execute_reply": "2023-09-01T12:18:41.520369Z"
    },
    "papermill": {
     "duration": 0.016633,
     "end_time": "2023-09-01T12:18:41.524380",
     "exception": false,
     "start_time": "2023-09-01T12:18:41.507747",
     "status": "completed"
    },
    "tags": []
   },
   "outputs": [
    {
     "name": "stdout",
     "output_type": "stream",
     "text": [
      "\n",
      " ARRAY a1 :  [1 2 3 4]\n",
      " ARRAY a2 :  [5 6]\n",
      "\n",
      " ARRAY a3 :  [1 2 3 4 5 6]\n"
     ]
    }
   ],
   "source": [
    "# importing library \n",
    "import numpy as np\n",
    "\n",
    "# creating first array \n",
    "a1 = np.array([1,2,3,4])\n",
    "\n",
    "# creating second array \n",
    "a2 = np.array([5,6])\n",
    "\n",
    "# printing a1 and a2 before stacking them \n",
    "print()\n",
    "print(\" ARRAY a1 : \",a1)\n",
    "print(\" ARRAY a2 : \",a2)\n",
    "\n",
    "# stacking it into third new array \n",
    "new_array = np.hstack([a1,a2])\n",
    "\n",
    "# priting a3\n",
    "print()\n",
    "print(\" ARRAY a3 : \",new_array)"
   ]
  }
 ],
 "kernelspec": {
  "display_name": "Python 3",
  "language": "python",
  "name": "python3"
 },
 "language_info": {
  "codemirror_mode": {
   "name": "ipython",
   "version": 3
  },
  "file_extension": ".py",
  "mimetype": "text/x-python",
  "name": "python",
  "nbconvert_exporter": "python",
  "pygments_lexer": "ipython3",
  "version": "3.6.4"
 },
 "metadata": {
  "kernelspec": {
   "display_name": "Python 3",
   "language": "python",
   "name": "python3"
  },
  "language_info": {
   "codemirror_mode": {
    "name": "ipython",
    "version": 3
   },
   "file_extension": ".py",
   "mimetype": "text/x-python",
   "name": "python",
   "nbconvert_exporter": "python",
   "pygments_lexer": "ipython3",
   "version": "3.10.12"
  },
  "papermill": {
   "default_parameters": {},
   "duration": 4.128201,
   "end_time": "2023-09-01T12:18:41.950512",
   "environment_variables": {},
   "exception": null,
   "input_path": "__notebook__.ipynb",
   "output_path": "__notebook__.ipynb",
   "parameters": {},
   "start_time": "2023-09-01T12:18:37.822311",
   "version": "2.4.0"
  }
 },
 "nbformat": 4,
 "nbformat_minor": 5
}
