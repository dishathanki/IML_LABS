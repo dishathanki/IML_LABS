{
 "cells": [
  {
   "cell_type": "markdown",
   "id": "453ff080",
   "metadata": {
    "papermill": {
     "duration": 0.005023,
     "end_time": "2023-09-01T16:41:39.251147",
     "exception": false,
     "start_time": "2023-09-01T16:41:39.246124",
     "status": "completed"
    },
    "tags": []
   },
   "source": [
    "# Thanki Disha Bhagvanjibhai [216270307024]"
   ]
  },
  {
   "cell_type": "markdown",
   "id": "24180733",
   "metadata": {
    "papermill": {
     "duration": 0.003941,
     "end_time": "2023-09-01T16:41:39.259562",
     "exception": false,
     "start_time": "2023-09-01T16:41:39.255621",
     "status": "completed"
    },
    "tags": []
   },
   "source": [
    "# practical 3 "
   ]
  },
  {
   "cell_type": "markdown",
   "id": "4a02e2c7",
   "metadata": {
    "papermill": {
     "duration": 0.003893,
     "end_time": "2023-09-01T16:41:39.267623",
     "exception": false,
     "start_time": "2023-09-01T16:41:39.263730",
     "status": "completed"
    },
    "tags": []
   },
   "source": [
    "# 1. write a numpy program to split an array of 14 elements into 3 arrays, each with 2, 4, and 8 elements in the original order"
   ]
  },
  {
   "cell_type": "code",
   "execution_count": 1,
   "id": "c10ee08e",
   "metadata": {
    "execution": {
     "iopub.execute_input": "2023-09-01T16:41:39.278549Z",
     "iopub.status.busy": "2023-09-01T16:41:39.277692Z",
     "iopub.status.idle": "2023-09-01T16:41:39.293865Z",
     "shell.execute_reply": "2023-09-01T16:41:39.292789Z"
    },
    "papermill": {
     "duration": 0.02488,
     "end_time": "2023-09-01T16:41:39.296596",
     "exception": false,
     "start_time": "2023-09-01T16:41:39.271716",
     "status": "completed"
    },
    "tags": []
   },
   "outputs": [
    {
     "name": "stdout",
     "output_type": "stream",
     "text": [
      " ARRAY :  [ 1  2  3  4  5  6  7  8  9 10 11 12 13 14]\n",
      "\n",
      "[array([1, 2]), array([3, 4, 5, 6]), array([ 7,  8,  9, 10, 11, 12, 13, 14])]\n"
     ]
    }
   ],
   "source": [
    "# importing library\n",
    "import numpy as np\n",
    "\n",
    "# creating array of 14 elements \n",
    "array = np.array([1,2,3,4,5,6,7,8,9,10,11,12,13,14])\n",
    "print(\" ARRAY : \",array)\n",
    "\n",
    "# splitting array of 14 elements into 2 4 8 order\n",
    "print()\n",
    "a1  = np.split(array,[2,6])\n",
    "print(a1)"
   ]
  },
  {
   "cell_type": "markdown",
   "id": "e73dd31b",
   "metadata": {
    "papermill": {
     "duration": 0.004142,
     "end_time": "2023-09-01T16:41:39.305135",
     "exception": false,
     "start_time": "2023-09-01T16:41:39.300993",
     "status": "completed"
    },
    "tags": []
   },
   "source": [
    "# 2. write a numpy program to to stack arrays horizontally (column wise)"
   ]
  },
  {
   "cell_type": "code",
   "execution_count": 2,
   "id": "7ca8217a",
   "metadata": {
    "execution": {
     "iopub.execute_input": "2023-09-01T16:41:39.316404Z",
     "iopub.status.busy": "2023-09-01T16:41:39.315760Z",
     "iopub.status.idle": "2023-09-01T16:41:39.325002Z",
     "shell.execute_reply": "2023-09-01T16:41:39.323543Z"
    },
    "papermill": {
     "duration": 0.017585,
     "end_time": "2023-09-01T16:41:39.327287",
     "exception": false,
     "start_time": "2023-09-01T16:41:39.309702",
     "status": "completed"
    },
    "tags": []
   },
   "outputs": [
    {
     "name": "stdout",
     "output_type": "stream",
     "text": [
      "\n",
      " ARRAY a1 :  [1 2 3 4]\n",
      " ARRAY a2 :  [5 6]\n",
      "\n",
      " ARRAY a3 :  [1 2 3 4 5 6]\n"
     ]
    }
   ],
   "source": [
    "# importing library \n",
    "import numpy as np\n",
    "\n",
    "# creating first array \n",
    "a1 = np.array([1,2,3,4])\n",
    "\n",
    "# creating second array \n",
    "a2 = np.array([5,6])\n",
    "\n",
    "# printing a1 and a2 before stacking them \n",
    "print()\n",
    "print(\" ARRAY a1 : \",a1)\n",
    "print(\" ARRAY a2 : \",a2)\n",
    "\n",
    "# stacking it into third new array \n",
    "new_array = np.hstack([a1,a2])\n",
    "\n",
    "# priting a3\n",
    "print()\n",
    "print(\" ARRAY a3 : \",new_array)"
   ]
  }
 ],
 "kernelspec": {
  "display_name": "Python 3",
  "language": "python",
  "name": "python3"
 },
 "language_info": {
  "codemirror_mode": {
   "name": "ipython",
   "version": 3
  },
  "file_extension": ".py",
  "mimetype": "text/x-python",
  "name": "python",
  "nbconvert_exporter": "python",
  "pygments_lexer": "ipython3",
  "version": "3.6.4"
 },
 "metadata": {
  "kernelspec": {
   "display_name": "Python 3",
   "language": "python",
   "name": "python3"
  },
  "language_info": {
   "codemirror_mode": {
    "name": "ipython",
    "version": 3
   },
   "file_extension": ".py",
   "mimetype": "text/x-python",
   "name": "python",
   "nbconvert_exporter": "python",
   "pygments_lexer": "ipython3",
   "version": "3.10.12"
  },
  "papermill": {
   "default_parameters": {},
   "duration": 4.100586,
   "end_time": "2023-09-01T16:41:39.651034",
   "environment_variables": {},
   "exception": null,
   "input_path": "__notebook__.ipynb",
   "output_path": "__notebook__.ipynb",
   "parameters": {},
   "start_time": "2023-09-01T16:41:35.550448",
   "version": "2.4.0"
  }
 },
 "nbformat": 4,
 "nbformat_minor": 5
}
