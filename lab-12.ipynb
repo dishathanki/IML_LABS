{
 "cells": [
  {
   "cell_type": "markdown",
   "id": "b0d823f7",
   "metadata": {
    "papermill": {
     "duration": 0.002956,
     "end_time": "2023-11-04T15:30:48.590596",
     "exception": false,
     "start_time": "2023-11-04T15:30:48.587640",
     "status": "completed"
    },
    "tags": []
   },
   "source": [
    "# Thanki Disha Bhagvanjibhai [216270307024]"
   ]
  },
  {
   "cell_type": "markdown",
   "id": "717ce12c",
   "metadata": {
    "papermill": {
     "duration": 0.001866,
     "end_time": "2023-11-04T15:30:48.594990",
     "exception": false,
     "start_time": "2023-11-04T15:30:48.593124",
     "status": "completed"
    },
    "tags": []
   },
   "source": [
    "# Practical 12"
   ]
  },
  {
   "cell_type": "markdown",
   "id": "552b7c5c",
   "metadata": {
    "papermill": {
     "duration": 0.004109,
     "end_time": "2023-11-04T15:30:48.601141",
     "exception": false,
     "start_time": "2023-11-04T15:30:48.597032",
     "status": "completed"
    },
    "tags": []
   },
   "source": [
    "# 1. Write a Python program using Scikit-learn to print the keys, number of rows-columns, feature names and the description of the given data."
   ]
  },
  {
   "cell_type": "code",
   "execution_count": 1,
   "id": "4d7c16d3",
   "metadata": {
    "execution": {
     "iopub.execute_input": "2023-11-04T15:30:48.607331Z",
     "iopub.status.busy": "2023-11-04T15:30:48.606858Z",
     "iopub.status.idle": "2023-11-04T15:30:50.026418Z",
     "shell.execute_reply": "2023-11-04T15:30:50.025023Z"
    },
    "papermill": {
     "duration": 1.426529,
     "end_time": "2023-11-04T15:30:50.029749",
     "exception": false,
     "start_time": "2023-11-04T15:30:48.603220",
     "status": "completed"
    },
    "tags": []
   },
   "outputs": [
    {
     "name": "stdout",
     "output_type": "stream",
     "text": [
      "\n",
      "Keys: dict_keys(['data', 'target', 'frame', 'target_names', 'DESCR', 'feature_names', 'filename', 'data_module'])\n",
      "\n",
      "Number of Rows: 150\n",
      "\n",
      "Number of Columns: 4\n",
      "\n",
      "Feature Names: ['sepal length (cm)', 'sepal width (cm)', 'petal length (cm)', 'petal width (cm)']\n",
      "\n",
      "Description:\n",
      " .. _iris_dataset:\n",
      "\n",
      "Iris plants dataset\n",
      "--------------------\n",
      "\n",
      "**Data Set Characteristics:**\n",
      "\n",
      "    :Number of Instances: 150 (50 in each of three classes)\n",
      "    :Number of Attributes: 4 numeric, predictive attributes and the class\n",
      "    :Attribute Information:\n",
      "        - sepal length in cm\n",
      "        - sepal width in cm\n",
      "        - petal length in cm\n",
      "        - petal width in cm\n",
      "        - class:\n",
      "                - Iris-Setosa\n",
      "                - Iris-Versicolour\n",
      "                - Iris-Virginica\n",
      "                \n",
      "    :Summary Statistics:\n",
      "\n",
      "    ============== ==== ==== ======= ===== ====================\n",
      "                    Min  Max   Mean    SD   Class Correlation\n",
      "    ============== ==== ==== ======= ===== ====================\n",
      "    sepal length:   4.3  7.9   5.84   0.83    0.7826\n",
      "    sepal width:    2.0  4.4   3.05   0.43   -0.4194\n",
      "    petal length:   1.0  6.9   3.76   1.76    0.9490  (high!)\n",
      "    petal width:    0.1  2.5   1.20   0.76    0.9565  (high!)\n",
      "    ============== ==== ==== ======= ===== ====================\n",
      "\n",
      "    :Missing Attribute Values: None\n",
      "    :Class Distribution: 33.3% for each of 3 classes.\n",
      "    :Creator: R.A. Fisher\n",
      "    :Donor: Michael Marshall (MARSHALL%PLU@io.arc.nasa.gov)\n",
      "    :Date: July, 1988\n",
      "\n",
      "The famous Iris database, first used by Sir R.A. Fisher. The dataset is taken\n",
      "from Fisher's paper. Note that it's the same as in R, but not as in the UCI\n",
      "Machine Learning Repository, which has two wrong data points.\n",
      "\n",
      "This is perhaps the best known database to be found in the\n",
      "pattern recognition literature.  Fisher's paper is a classic in the field and\n",
      "is referenced frequently to this day.  (See Duda & Hart, for example.)  The\n",
      "data set contains 3 classes of 50 instances each, where each class refers to a\n",
      "type of iris plant.  One class is linearly separable from the other 2; the\n",
      "latter are NOT linearly separable from each other.\n",
      "\n",
      ".. topic:: References\n",
      "\n",
      "   - Fisher, R.A. \"The use of multiple measurements in taxonomic problems\"\n",
      "     Annual Eugenics, 7, Part II, 179-188 (1936); also in \"Contributions to\n",
      "     Mathematical Statistics\" (John Wiley, NY, 1950).\n",
      "   - Duda, R.O., & Hart, P.E. (1973) Pattern Classification and Scene Analysis.\n",
      "     (Q327.D83) John Wiley & Sons.  ISBN 0-471-22361-1.  See page 218.\n",
      "   - Dasarathy, B.V. (1980) \"Nosing Around the Neighborhood: A New System\n",
      "     Structure and Classification Rule for Recognition in Partially Exposed\n",
      "     Environments\".  IEEE Transactions on Pattern Analysis and Machine\n",
      "     Intelligence, Vol. PAMI-2, No. 1, 67-71.\n",
      "   - Gates, G.W. (1972) \"The Reduced Nearest Neighbor Rule\".  IEEE Transactions\n",
      "     on Information Theory, May 1972, 431-433.\n",
      "   - See also: 1988 MLC Proceedings, 54-64.  Cheeseman et al\"s AUTOCLASS II\n",
      "     conceptual clustering system finds 3 classes in the data.\n",
      "   - Many, many more ...\n"
     ]
    }
   ],
   "source": [
    "# Name : Disha Thanki\n",
    "\n",
    "# Enrollment Number : 216270307024\n",
    "\n",
    "\n",
    "# importing Datasets from Scikit Learn\n",
    "from sklearn import datasets \n",
    "\n",
    "# loading Iris Dataset from Scikit learn\n",
    "iris = datasets.load_iris()\n",
    "\n",
    "# Getting keys from Dataset\n",
    "key = iris.keys()\n",
    "\n",
    "# Getting number of rows and columns\n",
    "samples , features = iris.data.shape\n",
    "\n",
    "# Getting feature Names\n",
    "feature_names = iris.feature_names\n",
    "\n",
    "# Getting Description of Dataset\n",
    "description = iris.DESCR\n",
    "\n",
    "\n",
    "# printing all information \n",
    "\n",
    "print()\n",
    "print(\"Keys:\", key)\n",
    "print()\n",
    "print(\"Number of Rows:\", samples)\n",
    "print()\n",
    "print(\"Number of Columns:\",features)\n",
    "print()\n",
    "print(\"Feature Names:\", feature_names)\n",
    "print()\n",
    "print(\"Description:\\n\", description)"
   ]
  }
 ],
 "metadata": {
  "kernelspec": {
   "display_name": "Python 3",
   "language": "python",
   "name": "python3"
  },
  "language_info": {
   "codemirror_mode": {
    "name": "ipython",
    "version": 3
   },
   "file_extension": ".py",
   "mimetype": "text/x-python",
   "name": "python",
   "nbconvert_exporter": "python",
   "pygments_lexer": "ipython3",
   "version": "3.10.12"
  },
  "papermill": {
   "default_parameters": {},
   "duration": 5.909072,
   "end_time": "2023-11-04T15:30:50.654860",
   "environment_variables": {},
   "exception": null,
   "input_path": "__notebook__.ipynb",
   "output_path": "__notebook__.ipynb",
   "parameters": {},
   "start_time": "2023-11-04T15:30:44.745788",
   "version": "2.4.0"
  }
 },
 "nbformat": 4,
 "nbformat_minor": 5
}
