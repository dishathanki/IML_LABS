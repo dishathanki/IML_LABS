{
 "cells": [
  {
   "cell_type": "markdown",
   "id": "2d8c3158",
   "metadata": {
    "papermill": {
     "duration": 0.002656,
     "end_time": "2023-11-04T14:31:27.609960",
     "exception": false,
     "start_time": "2023-11-04T14:31:27.607304",
     "status": "completed"
    },
    "tags": []
   },
   "source": [
    "# Thanki Disha Bhagvanjibhai [216270307024]"
   ]
  },
  {
   "cell_type": "markdown",
   "id": "b3078199",
   "metadata": {
    "papermill": {
     "duration": 0.001722,
     "end_time": "2023-11-04T14:31:27.613784",
     "exception": false,
     "start_time": "2023-11-04T14:31:27.612062",
     "status": "completed"
    },
    "tags": []
   },
   "source": [
    "# practical 5"
   ]
  },
  {
   "cell_type": "markdown",
   "id": "372d0836",
   "metadata": {
    "papermill": {
     "duration": 0.001777,
     "end_time": "2023-11-04T14:31:27.619713",
     "exception": false,
     "start_time": "2023-11-04T14:31:27.617936",
     "status": "completed"
    },
    "tags": []
   },
   "source": [
    "# 1. Write a numpy program to find the maximum and minimum value of a given flattened array"
   ]
  },
  {
   "cell_type": "code",
   "execution_count": 1,
   "id": "55091048",
   "metadata": {
    "execution": {
     "iopub.execute_input": "2023-11-04T14:31:27.625396Z",
     "iopub.status.busy": "2023-11-04T14:31:27.625052Z",
     "iopub.status.idle": "2023-11-04T14:31:27.639119Z",
     "shell.execute_reply": "2023-11-04T14:31:27.637815Z"
    },
    "papermill": {
     "duration": 0.019979,
     "end_time": "2023-11-04T14:31:27.641607",
     "exception": false,
     "start_time": "2023-11-04T14:31:27.621628",
     "status": "completed"
    },
    "tags": []
   },
   "outputs": [
    {
     "name": "stdout",
     "output_type": "stream",
     "text": [
      "ARRAY : \n",
      "[[ 1  2  3  4  5  6  7  8  9]\n",
      " [11 22 33 44 55 66 77 88 99]]\n",
      "\n",
      "FLATTEND_ARRAY :\n",
      "[ 1  2  3  4  5  6  7  8  9 11 22 33 44 55 66 77 88 99]\n",
      "\n",
      "MINIMUM VALUE FROM FLATTEND_ARRAY :  1\n",
      "MAXIMUM VALUE FROM FLATTEND_ARRAY :  99\n"
     ]
    }
   ],
   "source": [
    "# importing numpy library\n",
    "import numpy as np\n",
    "\n",
    "# creating array\n",
    "array = np.array([ [1,2,3,4,5,6,7,8,9],[11,22,33,44,55,66,77,88,99] ])\n",
    "# print array\n",
    "print(\"ARRAY : \")\n",
    "print(array)\n",
    "\n",
    "# converting array into flattened array\n",
    "# basically , flattend method convert 2D-array into 1D array !\n",
    "flattend_array = array.flatten()\n",
    "print()\n",
    "\n",
    "#printing flattend_array\n",
    "print(\"FLATTEND_ARRAY :\")\n",
    "print(flattend_array)\n",
    "print()\n",
    "\n",
    "# maximum value from flattend_array\n",
    "print(\"MINIMUM VALUE FROM FLATTEND_ARRAY : \",np.min(flattend_array))\n",
    "print(\"MAXIMUM VALUE FROM FLATTEND_ARRAY : \",np.max(flattend_array))"
   ]
  },
  {
   "cell_type": "markdown",
   "id": "9cd24f0c",
   "metadata": {
    "papermill": {
     "duration": 0.001736,
     "end_time": "2023-11-04T14:31:27.645640",
     "exception": false,
     "start_time": "2023-11-04T14:31:27.643904",
     "status": "completed"
    },
    "tags": []
   },
   "source": [
    "# 2. Write a numpy program to compute the mean, standard deviation, and variance of a given array along the second axis"
   ]
  },
  {
   "cell_type": "code",
   "execution_count": 2,
   "id": "0ce74d29",
   "metadata": {
    "execution": {
     "iopub.execute_input": "2023-11-04T14:31:27.651377Z",
     "iopub.status.busy": "2023-11-04T14:31:27.651035Z",
     "iopub.status.idle": "2023-11-04T14:31:27.658801Z",
     "shell.execute_reply": "2023-11-04T14:31:27.657787Z"
    },
    "papermill": {
     "duration": 0.013327,
     "end_time": "2023-11-04T14:31:27.660916",
     "exception": false,
     "start_time": "2023-11-04T14:31:27.647589",
     "status": "completed"
    },
    "tags": []
   },
   "outputs": [
    {
     "name": "stdout",
     "output_type": "stream",
     "text": [
      "ARRAY A :\n",
      "[[[12 12 34]\n",
      "  [21 23 67]\n",
      "  [21 78 34]]]\n",
      "\n",
      " MEAN OF AARRAY A ALONG AXIS 2 :  [[19.33333333 37.         44.33333333]]\n",
      "\n",
      " STANDARD DEVIATION OF ARRAY A ALONG AXIS 2 : [[10.37089946 21.2289111  24.39034417]]\n",
      "\n",
      " VARIANCE OF ARRAY A ALONG AXIS 2 :  [[107.55555556 450.66666667 594.88888889]]\n",
      "\n"
     ]
    }
   ],
   "source": [
    "# importing numpy library\n",
    "import numpy as np\n",
    "\n",
    "# creating array a\n",
    "a = np.array([ [  [12,12,34] ,[21,23,67] , [21,78,34] ] ])\n",
    "print(\"ARRAY A :\")\n",
    "print(a)\n",
    "print()\n",
    "\n",
    "# mean of array a along axis=2\n",
    "print(\" MEAN OF AARRAY A ALONG AXIS 2 : \",np.mean(a,axis=2))\n",
    "print()\n",
    "# standard deviation of array a along axis=2 \n",
    "print(\" STANDARD DEVIATION OF ARRAY A ALONG AXIS 2 :\",np.std(a,axis=2))\n",
    "print()\n",
    "#variance pf array a along axis=2\n",
    "print(\" VARIANCE OF ARRAY A ALONG AXIS 2 : \",np.var(a,axis=2))\n",
    "print()"
   ]
  },
  {
   "cell_type": "code",
   "execution_count": null,
   "id": "094dee85",
   "metadata": {
    "papermill": {
     "duration": 0.001822,
     "end_time": "2023-11-04T14:31:27.664984",
     "exception": false,
     "start_time": "2023-11-04T14:31:27.663162",
     "status": "completed"
    },
    "tags": []
   },
   "outputs": [],
   "source": []
  }
 ],
 "metadata": {
  "kernelspec": {
   "display_name": "Python 3",
   "language": "python",
   "name": "python3"
  },
  "language_info": {
   "codemirror_mode": {
    "name": "ipython",
    "version": 3
   },
   "file_extension": ".py",
   "mimetype": "text/x-python",
   "name": "python",
   "nbconvert_exporter": "python",
   "pygments_lexer": "ipython3",
   "version": "3.10.12"
  },
  "papermill": {
   "default_parameters": {},
   "duration": 3.366856,
   "end_time": "2023-11-04T14:31:27.986351",
   "environment_variables": {},
   "exception": null,
   "input_path": "__notebook__.ipynb",
   "output_path": "__notebook__.ipynb",
   "parameters": {},
   "start_time": "2023-11-04T14:31:24.619495",
   "version": "2.4.0"
  }
 },
 "nbformat": 4,
 "nbformat_minor": 5
}
