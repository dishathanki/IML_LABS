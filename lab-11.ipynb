{
 "cells": [
  {
   "cell_type": "markdown",
   "id": "faba1ff5",
   "metadata": {
    "papermill": {
     "duration": 0.003278,
     "end_time": "2023-11-04T15:30:02.055135",
     "exception": false,
     "start_time": "2023-11-04T15:30:02.051857",
     "status": "completed"
    },
    "tags": []
   },
   "source": [
    "# Thanki Disha Bhagvanjibhai [216270307024]"
   ]
  },
  {
   "cell_type": "markdown",
   "id": "c6435559",
   "metadata": {
    "papermill": {
     "duration": 0.002321,
     "end_time": "2023-11-04T15:30:02.060275",
     "exception": false,
     "start_time": "2023-11-04T15:30:02.057954",
     "status": "completed"
    },
    "tags": []
   },
   "source": [
    "# Practical 11"
   ]
  },
  {
   "cell_type": "markdown",
   "id": "4c090fa3",
   "metadata": {
    "papermill": {
     "duration": 0.002276,
     "end_time": "2023-11-04T15:30:02.067043",
     "exception": false,
     "start_time": "2023-11-04T15:30:02.064767",
     "status": "completed"
    },
    "tags": []
   },
   "source": [
    "# 1. Write a Pandas program to filter all columns where all entries present, check which rows and columns has a NaN and finally drop rows with any NaNs from the given dataset."
   ]
  },
  {
   "cell_type": "code",
   "execution_count": 1,
   "id": "4b561b13",
   "metadata": {
    "execution": {
     "iopub.execute_input": "2023-11-04T15:30:02.074928Z",
     "iopub.status.busy": "2023-11-04T15:30:02.073625Z",
     "iopub.status.idle": "2023-11-04T15:30:02.573104Z",
     "shell.execute_reply": "2023-11-04T15:30:02.571812Z"
    },
    "papermill": {
     "duration": 0.506863,
     "end_time": "2023-11-04T15:30:02.576419",
     "exception": false,
     "start_time": "2023-11-04T15:30:02.069556",
     "status": "completed"
    },
    "tags": []
   },
   "outputs": [
    {
     "name": "stdout",
     "output_type": "stream",
     "text": [
      "     PassengerId  Survived  Pclass  \\\n",
      "1              2         1       1   \n",
      "3              4         1       1   \n",
      "6              7         0       1   \n",
      "10            11         1       3   \n",
      "11            12         1       1   \n",
      "..           ...       ...     ...   \n",
      "871          872         1       1   \n",
      "872          873         0       1   \n",
      "879          880         1       1   \n",
      "887          888         1       1   \n",
      "889          890         1       1   \n",
      "\n",
      "                                                  Name     Sex   Age  SibSp  \\\n",
      "1    Cumings, Mrs. John Bradley (Florence Briggs Th...  female  38.0      1   \n",
      "3         Futrelle, Mrs. Jacques Heath (Lily May Peel)  female  35.0      1   \n",
      "6                              McCarthy, Mr. Timothy J    male  54.0      0   \n",
      "10                     Sandstrom, Miss. Marguerite Rut  female   4.0      1   \n",
      "11                            Bonnell, Miss. Elizabeth  female  58.0      0   \n",
      "..                                                 ...     ...   ...    ...   \n",
      "871   Beckwith, Mrs. Richard Leonard (Sallie Monypeny)  female  47.0      1   \n",
      "872                           Carlsson, Mr. Frans Olof    male  33.0      0   \n",
      "879      Potter, Mrs. Thomas Jr (Lily Alexenia Wilson)  female  56.0      0   \n",
      "887                       Graham, Miss. Margaret Edith  female  19.0      0   \n",
      "889                              Behr, Mr. Karl Howell    male  26.0      0   \n",
      "\n",
      "     Parch    Ticket     Fare        Cabin Embarked  \n",
      "1        0  PC 17599  71.2833          C85        C  \n",
      "3        0    113803  53.1000         C123        S  \n",
      "6        0     17463  51.8625          E46        S  \n",
      "10       1   PP 9549  16.7000           G6        S  \n",
      "11       0    113783  26.5500         C103        S  \n",
      "..     ...       ...      ...          ...      ...  \n",
      "871      1     11751  52.5542          D35        S  \n",
      "872      0       695   5.0000  B51 B53 B55        S  \n",
      "879      1     11767  83.1583          C50        C  \n",
      "887      0    112053  30.0000          B42        S  \n",
      "889      0    111369  30.0000         C148        C  \n",
      "\n",
      "[183 rows x 12 columns]\n"
     ]
    }
   ],
   "source": [
    "# Name : Disha Thanki\n",
    "# Enrollment Number : 216270307024\n",
    "\n",
    "# importng files\n",
    "import pandas as pd\n",
    "\n",
    "\n",
    "# reading csv file \n",
    "data = pd.read_csv('/kaggle/input/titanic-dataset/Titanic-Dataset.csv')\n",
    "data.isna()\n",
    "\n",
    "# droping mssing values from dataset\n",
    "updated_data = data.dropna(how='any')\n",
    "updated_data.head()\n",
    "\n",
    "\n",
    "# checking if any row or column have Nan values or not\n",
    "rows = data[data.isna().any(axis=1)]\n",
    "columns = data.columns[data.isna().any()]\n",
    "\n",
    "\n",
    "# Drop rows with any NaN values\n",
    "data_cleaned = updated_data.dropna()\n",
    "print(data_cleaned)"
   ]
  },
  {
   "cell_type": "code",
   "execution_count": null,
   "id": "a6dad64f",
   "metadata": {
    "execution": {
     "iopub.execute_input": "2023-10-24T06:40:50.558593Z",
     "iopub.status.busy": "2023-10-24T06:40:50.558048Z",
     "iopub.status.idle": "2023-10-24T06:40:50.569180Z",
     "shell.execute_reply": "2023-10-24T06:40:50.567904Z",
     "shell.execute_reply.started": "2023-10-24T06:40:50.558530Z"
    },
    "papermill": {
     "duration": 0.002761,
     "end_time": "2023-11-04T15:30:02.582146",
     "exception": false,
     "start_time": "2023-11-04T15:30:02.579385",
     "status": "completed"
    },
    "tags": []
   },
   "outputs": [],
   "source": []
  }
 ],
 "metadata": {
  "kernelspec": {
   "display_name": "Python 3",
   "language": "python",
   "name": "python3"
  },
  "language_info": {
   "codemirror_mode": {
    "name": "ipython",
    "version": 3
   },
   "file_extension": ".py",
   "mimetype": "text/x-python",
   "name": "python",
   "nbconvert_exporter": "python",
   "pygments_lexer": "ipython3",
   "version": "3.10.12"
  },
  "papermill": {
   "default_parameters": {},
   "duration": 5.15538,
   "end_time": "2023-11-04T15:30:03.107294",
   "environment_variables": {},
   "exception": null,
   "input_path": "__notebook__.ipynb",
   "output_path": "__notebook__.ipynb",
   "parameters": {},
   "start_time": "2023-11-04T15:29:57.951914",
   "version": "2.4.0"
  }
 },
 "nbformat": 4,
 "nbformat_minor": 5
}
