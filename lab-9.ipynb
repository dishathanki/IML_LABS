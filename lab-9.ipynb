{
 "cells": [
  {
   "cell_type": "markdown",
   "id": "25774161",
   "metadata": {
    "papermill": {
     "duration": 0.002688,
     "end_time": "2023-11-04T15:28:44.768252",
     "exception": false,
     "start_time": "2023-11-04T15:28:44.765564",
     "status": "completed"
    },
    "tags": []
   },
   "source": [
    "# Thanki Disha Bhagvanjibhai [216270307024]"
   ]
  },
  {
   "cell_type": "markdown",
   "id": "db2c8768",
   "metadata": {
    "papermill": {
     "duration": 0.001821,
     "end_time": "2023-11-04T15:28:44.772357",
     "exception": false,
     "start_time": "2023-11-04T15:28:44.770536",
     "status": "completed"
    },
    "tags": []
   },
   "source": [
    "# Practical 9"
   ]
  },
  {
   "cell_type": "markdown",
   "id": "f3a419f0",
   "metadata": {
    "papermill": {
     "duration": 0.003478,
     "end_time": "2023-11-04T15:28:44.777845",
     "exception": false,
     "start_time": "2023-11-04T15:28:44.774367",
     "status": "completed"
    },
    "tags": []
   },
   "source": [
    "# 1. Write a Pandas program to create a plot of Open, High, Low, Close, Adjusted Closing prices and Volume of given company between two specific dates."
   ]
  },
  {
   "cell_type": "code",
   "execution_count": 1,
   "id": "b594de2a",
   "metadata": {
    "execution": {
     "iopub.execute_input": "2023-11-04T15:28:44.784578Z",
     "iopub.status.busy": "2023-11-04T15:28:44.783671Z",
     "iopub.status.idle": "2023-11-04T15:28:45.630836Z",
     "shell.execute_reply": "2023-11-04T15:28:45.629666Z"
    },
    "papermill": {
     "duration": 0.853555,
     "end_time": "2023-11-04T15:28:45.633429",
     "exception": false,
     "start_time": "2023-11-04T15:28:44.779874",
     "status": "completed"
    },
    "tags": []
   },
   "outputs": [
    {
     "data": {
      "image/png": "[encoded data removed]",
      "text/plain": [
       "<Figure size 640x480 with 1 Axes>"
      ]
     },
     "metadata": {},
     "output_type": "display_data"
    }
   ],
   "source": [
    "# Name : Disha Thanki\n",
    "# Enrollment Number : 216270307024\n",
    "\n",
    "# importing files \n",
    "import pandas as pd\n",
    "import matplotlib.pyplot as plt\n",
    "\n",
    "# Read the CSV file into a DataFrame\n",
    "df = pd.read_csv('/kaggle/input/nifty50-stock-market-data/ADANIPORTS.csv')\n",
    "\n",
    "# Limit the DataFrame to the first 130 rows\n",
    "limited_df = df.iloc[:12]\n",
    "\n",
    "# Create a date range with the desired start date and frequency\n",
    "date_range = pd.date_range(\"2000-03-07\", periods=len(limited_df), freq=\"D\")\n",
    "\n",
    "# Set the date range as the index of the limited DataFrame\n",
    "limited_df.set_index(date_range, inplace=True)\n",
    "\n",
    "# Define colors for candlesticks\n",
    "col1 = 'black' \n",
    "col2 = 'yellow' \n",
    "\n",
    "# Define width for candlestick elements\n",
    "width = .3\n",
    "width2 =.03\n",
    "\n",
    "# Create separate DataFrames for \"up\" (increasing) and \"down\" (decreasing) prices\n",
    "up = limited_df[limited_df['Close'] > limited_df['Open']]\n",
    "down = limited_df[limited_df['Open'] > limited_df['Close']]\n",
    "\n",
    "# Plotting up prices of the stock\n",
    "plt.bar(up.index, up['Close'] - up['Open'], width, bottom=up['Open'], color=col1)\n",
    "plt.bar(up.index, up['High'] - up['Close'], width2, bottom=up['Close'], color=col1)\n",
    "plt.bar(up.index, up['Low'] - up['Open'], width2, bottom=up['Open'], color=col1)\n",
    "\n",
    "# Plotting down prices of the stock\n",
    "plt.bar(down.index, down['Open'] - down['Close'], width, bottom=down['Close'], \n",
    "color=col2)\n",
    "plt.bar(down.index, down['Open'] - down['High'], width2, bottom=down['High'], \n",
    "color=col2)\n",
    "plt.bar(down.index, down['Open'] - down['Low'], width2, bottom=down['Low'], \n",
    "color=col2)\n",
    "\n",
    "# plotting candlestick graph \n",
    "plt.xticks(rotation=30, ha='right')\n",
    "plt.show()"
   ]
  }
 ],
 "metadata": {
  "kernelspec": {
   "display_name": "Python 3",
   "language": "python",
   "name": "python3"
  },
  "language_info": {
   "codemirror_mode": {
    "name": "ipython",
    "version": 3
   },
   "file_extension": ".py",
   "mimetype": "text/x-python",
   "name": "python",
   "nbconvert_exporter": "python",
   "pygments_lexer": "ipython3",
   "version": "3.10.12"
  },
  "papermill": {
   "default_parameters": {},
   "duration": 4.775399,
   "end_time": "2023-11-04T15:28:46.057947",
   "environment_variables": {},
   "exception": null,
   "input_path": "__notebook__.ipynb",
   "output_path": "__notebook__.ipynb",
   "parameters": {},
   "start_time": "2023-11-04T15:28:41.282548",
   "version": "2.4.0"
  }
 },
 "nbformat": 4,
 "nbformat_minor": 5
}
