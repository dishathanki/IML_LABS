{
 "cells": [
  {
   "cell_type": "markdown",
   "id": "af4946e4",
   "metadata": {
    "papermill": {
     "duration": 0.006258,
     "end_time": "2023-09-01T12:17:50.930317",
     "exception": false,
     "start_time": "2023-09-01T12:17:50.924059",
     "status": "completed"
    },
    "tags": []
   },
   "source": [
    "# thanki disha bhagvanjibhai [216270307024]"
   ]
  },
  {
   "cell_type": "markdown",
   "id": "4c6475d1",
   "metadata": {
    "papermill": {
     "duration": 0.005222,
     "end_time": "2023-09-01T12:17:50.941204",
     "exception": false,
     "start_time": "2023-09-01T12:17:50.935982",
     "status": "completed"
    },
    "tags": []
   },
   "source": [
    "# practical 2"
   ]
  },
  {
   "cell_type": "markdown",
   "id": "b6f5a4a1",
   "metadata": {
    "papermill": {
     "duration": 0.005127,
     "end_time": "2023-09-01T12:17:50.951739",
     "exception": false,
     "start_time": "2023-09-01T12:17:50.946612",
     "status": "completed"
    },
    "tags": []
   },
   "source": [
    "# 1. write a numpy program to convert list into numpy one dimensional array "
   ]
  },
  {
   "cell_type": "code",
   "execution_count": 1,
   "id": "7058e843",
   "metadata": {
    "execution": {
     "iopub.execute_input": "2023-09-01T12:17:50.964886Z",
     "iopub.status.busy": "2023-09-01T12:17:50.964025Z",
     "iopub.status.idle": "2023-09-01T12:17:50.981325Z",
     "shell.execute_reply": "2023-09-01T12:17:50.979937Z"
    },
    "papermill": {
     "duration": 0.02696,
     "end_time": "2023-09-01T12:17:50.984153",
     "exception": false,
     "start_time": "2023-09-01T12:17:50.957193",
     "status": "completed"
    },
    "tags": []
   },
   "outputs": [
    {
     "name": "stdout",
     "output_type": "stream",
     "text": [
      " PYTHON LIST :  [1, 2, 3, 4, 5, 6, 7, 8, 9, 10]\n",
      "\n",
      " CONVERTED NUMPY ARRAY :  [ 1  2  3  4  5  6  7  8  9 10]\n",
      "\n",
      " CHECKING DIMENSION OF NUMPY ARRAY :  1\n"
     ]
    }
   ],
   "source": [
    "#importing numpy library\n",
    "import numpy as np\n",
    "\n",
    "# creating list of numeric values \n",
    "a = [1,2,3,4,5,6,7,8,9,10]\n",
    "\n",
    "# printing list \n",
    "print(\" PYTHON LIST : \",a)\n",
    "\n",
    "# converting list a into nupmy numeric array \n",
    "converted_list_into_array = np.array(a)\n",
    "print()\n",
    "\n",
    "# printing new numpy array\n",
    "print(\" CONVERTED NUMPY ARRAY : \",converted_list_into_array)\n",
    "print()\n",
    "\n",
    "#cheking dimension of converted list \n",
    "#ndim is used to check the dimension of numpy array\n",
    "print(\" CHECKING DIMENSION OF NUMPY ARRAY : \",converted_list_into_array.ndim)"
   ]
  },
  {
   "cell_type": "markdown",
   "id": "99fa1c11",
   "metadata": {
    "papermill": {
     "duration": 0.005322,
     "end_time": "2023-09-01T12:17:50.995187",
     "exception": false,
     "start_time": "2023-09-01T12:17:50.989865",
     "status": "completed"
    },
    "tags": []
   },
   "source": [
    "# 2. write a Numpy program to create a 3x3 matrix with values ranging from 2 to 10 "
   ]
  },
  {
   "cell_type": "code",
   "execution_count": 2,
   "id": "e0d20df9",
   "metadata": {
    "execution": {
     "iopub.execute_input": "2023-09-01T12:17:51.008393Z",
     "iopub.status.busy": "2023-09-01T12:17:51.007936Z",
     "iopub.status.idle": "2023-09-01T12:17:51.016420Z",
     "shell.execute_reply": "2023-09-01T12:17:51.014821Z"
    },
    "papermill": {
     "duration": 0.018047,
     "end_time": "2023-09-01T12:17:51.018987",
     "exception": false,
     "start_time": "2023-09-01T12:17:51.000940",
     "status": "completed"
    },
    "tags": []
   },
   "outputs": [
    {
     "name": "stdout",
     "output_type": "stream",
     "text": [
      " ARRAY :  [ 2  3  4  5  6  7  8  9 10]\n",
      "\n",
      " 3 X 3 MATRIX : \n",
      "\n",
      "[[ 2  3  4]\n",
      " [ 5  6  7]\n",
      " [ 8  9 10]]\n"
     ]
    }
   ],
   "source": [
    "# importing numpy library \n",
    "import numpy as np \n",
    "\n",
    "# creating numpy array with the range of 2 to 10 \n",
    "\n",
    "# arange() function is used to create array within given range \n",
    "array = np.arange(2,11)\n",
    "\n",
    "#printing crated array\n",
    "print(\" ARRAY : \",array)\n",
    "print()\n",
    "\n",
    "# now reshapeing the created array into 3 X 3 matrix \n",
    "matrix_array = array.reshape(3,3)\n",
    "\n",
    "# now printing the matrix_array \n",
    "print(\" 3 X 3 MATRIX : \")\n",
    "print()\n",
    "print(matrix_array)"
   ]
  },
  {
   "cell_type": "markdown",
   "id": "0512f5cb",
   "metadata": {
    "papermill": {
     "duration": 0.005367,
     "end_time": "2023-09-01T12:17:51.030155",
     "exception": false,
     "start_time": "2023-09-01T12:17:51.024788",
     "status": "completed"
    },
    "tags": []
   },
   "source": [
    "# 3. write a program to append values at the end of the array"
   ]
  },
  {
   "cell_type": "code",
   "execution_count": 3,
   "id": "b93a5a96",
   "metadata": {
    "execution": {
     "iopub.execute_input": "2023-09-01T12:17:51.043309Z",
     "iopub.status.busy": "2023-09-01T12:17:51.042905Z",
     "iopub.status.idle": "2023-09-01T12:17:51.051402Z",
     "shell.execute_reply": "2023-09-01T12:17:51.050187Z"
    },
    "papermill": {
     "duration": 0.018398,
     "end_time": "2023-09-01T12:17:51.054218",
     "exception": false,
     "start_time": "2023-09-01T12:17:51.035820",
     "status": "completed"
    },
    "tags": []
   },
   "outputs": [
    {
     "name": "stdout",
     "output_type": "stream",
     "text": [
      "\n",
      " ARRAY BEFORE APPENDING THE VALUES :  [1 2 3 4 5]\n",
      "\n",
      " ARRAY AFTER APPENDING THE VALUES  :  [1 2 3 4 5 6 7]\n"
     ]
    }
   ],
   "source": [
    "# importing library\n",
    "import numpy as np\n",
    "\n",
    "# creating array with the help of np.array \n",
    "array = np.array([1,2,3,4,5])\n",
    "\n",
    "#appending values in array\n",
    "array2 = np.append(array, [6,7])\n",
    "print()\n",
    "\n",
    "# printing both array \n",
    "print(\" ARRAY BEFORE APPENDING THE VALUES : \",array)\n",
    "print()\n",
    "print(\" ARRAY AFTER APPENDING THE VALUES  : \",array2)"
   ]
  },
  {
   "cell_type": "markdown",
   "id": "75a17415",
   "metadata": {
    "papermill": {
     "duration": 0.005529,
     "end_time": "2023-09-01T12:17:51.066129",
     "exception": false,
     "start_time": "2023-09-01T12:17:51.060600",
     "status": "completed"
    },
    "tags": []
   },
   "source": [
    "# 4. write a program to create another shape from an array without changing its data(3*2 to 2*3) "
   ]
  },
  {
   "cell_type": "code",
   "execution_count": 4,
   "id": "83ad88b3",
   "metadata": {
    "execution": {
     "iopub.execute_input": "2023-09-01T12:17:51.079669Z",
     "iopub.status.busy": "2023-09-01T12:17:51.079288Z",
     "iopub.status.idle": "2023-09-01T12:17:51.086830Z",
     "shell.execute_reply": "2023-09-01T12:17:51.085571Z"
    },
    "papermill": {
     "duration": 0.017462,
     "end_time": "2023-09-01T12:17:51.089405",
     "exception": false,
     "start_time": "2023-09-01T12:17:51.071943",
     "status": "completed"
    },
    "tags": []
   },
   "outputs": [
    {
     "name": "stdout",
     "output_type": "stream",
     "text": [
      "\n",
      " 3 X 2 ARRAY : \n",
      "[[1 2]\n",
      " [1 2]\n",
      " [1 2]]\n",
      "\n",
      " 2 X 3 ARRAY : \n",
      "[[1 2 1]\n",
      " [2 1 2]]\n"
     ]
    }
   ],
   "source": [
    "# importing library\n",
    "import numpy as np\n",
    "\n",
    "# creating 3 X 2 array \n",
    "array = np.array([ [1,2] , [1,2], [1,2] ])\n",
    "\n",
    "# now changing the shape of 3 X 2 array\n",
    "array2 = array.reshape(2,3)\n",
    "\n",
    "# printing both arrays\n",
    "print()\n",
    "print(\" 3 X 2 ARRAY : \")\n",
    "print(array)\n",
    "\n",
    "print()\n",
    "print(\" 2 X 3 ARRAY : \")\n",
    "print(array2)"
   ]
  }
 ],
 "kernelspec": {
  "display_name": "Python 3",
  "language": "python",
  "name": "python3"
 },
 "language_info": {
  "codemirror_mode": {
   "name": "ipython",
   "version": 3
  },
  "file_extension": ".py",
  "mimetype": "text/x-python",
  "name": "python",
  "nbconvert_exporter": "python",
  "pygments_lexer": "ipython3",
  "version": "3.6.4"
 },
 "metadata": {
  "kernelspec": {
   "display_name": "Python 3",
   "language": "python",
   "name": "python3"
  },
  "language_info": {
   "codemirror_mode": {
    "name": "ipython",
    "version": 3
   },
   "file_extension": ".py",
   "mimetype": "text/x-python",
   "name": "python",
   "nbconvert_exporter": "python",
   "pygments_lexer": "ipython3",
   "version": "3.10.12"
  },
  "papermill": {
   "default_parameters": {},
   "duration": 14.47703,
   "end_time": "2023-09-01T12:17:52.018937",
   "environment_variables": {},
   "exception": null,
   "input_path": "__notebook__.ipynb",
   "output_path": "__notebook__.ipynb",
   "parameters": {},
   "start_time": "2023-09-01T12:17:37.541907",
   "version": "2.4.0"
  }
 },
 "nbformat": 4,
 "nbformat_minor": 5
}
