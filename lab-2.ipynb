{
 "cells": [
  {
   "cell_type": "markdown",
   "id": "dda99e82",
   "metadata": {
    "papermill": {
     "duration": 0.004962,
     "end_time": "2023-09-01T11:28:07.500229",
     "exception": false,
     "start_time": "2023-09-01T11:28:07.495267",
     "status": "completed"
    },
    "tags": []
   },
   "source": [
    "# to convert a list of numeric values into a one-dimensional NumPy array"
   ]
  },
  {
   "cell_type": "code",
   "execution_count": 1,
   "id": "cb34ec88",
   "metadata": {
    "execution": {
     "iopub.execute_input": "2023-09-01T11:28:07.511430Z",
     "iopub.status.busy": "2023-09-01T11:28:07.510650Z",
     "iopub.status.idle": "2023-09-01T11:28:07.524726Z",
     "shell.execute_reply": "2023-09-01T11:28:07.523827Z"
    },
    "papermill": {
     "duration": 0.021954,
     "end_time": "2023-09-01T11:28:07.526814",
     "exception": false,
     "start_time": "2023-09-01T11:28:07.504860",
     "status": "completed"
    },
    "tags": []
   },
   "outputs": [
    {
     "name": "stdout",
     "output_type": "stream",
     "text": [
      " PYTHON LIST :  [1, 2, 3, 4, 5, 6, 7, 8, 9, 10]\n",
      "\n",
      " CONVERTED NUMPY ARRAY :  [ 1  2  3  4  5  6  7  8  9 10]\n",
      "\n",
      " CHECKING DIMENSION OF NUMPY ARRAY :  1\n"
     ]
    }
   ],
   "source": [
    "#importing numpy library\n",
    "\n",
    "import numpy as np\n",
    "\n",
    "# creating list of numeric values \n",
    "\n",
    "a = [1,2,3,4,5,6,7,8,9,10]\n",
    "\n",
    "# printing list \n",
    "\n",
    "print(\" PYTHON LIST : \",a)\n",
    "\n",
    "# converting list a into nupmy numeric array \n",
    "\n",
    "converted_list_into_array = np.array(a)\n",
    "print()\n",
    "\n",
    "# printing new numpy array\n",
    "\n",
    "print(\" CONVERTED NUMPY ARRAY : \",converted_list_into_array)\n",
    "print()\n",
    "\n",
    "#cheking dimension of converted list \n",
    "\n",
    "#ndim is used to check the dimension of numpy array\n",
    "print(\" CHECKING DIMENSION OF NUMPY ARRAY : \",converted_list_into_array.ndim)"
   ]
  },
  {
   "cell_type": "markdown",
   "id": "1ba7bdb2",
   "metadata": {
    "papermill": {
     "duration": 0.003542,
     "end_time": "2023-09-01T11:28:07.534207",
     "exception": false,
     "start_time": "2023-09-01T11:28:07.530665",
     "status": "completed"
    },
    "tags": []
   },
   "source": [
    "# to create a 3x3 matrix with values ranging from 2 to 10"
   ]
  },
  {
   "cell_type": "code",
   "execution_count": 2,
   "id": "f22b3627",
   "metadata": {
    "execution": {
     "iopub.execute_input": "2023-09-01T11:28:07.544039Z",
     "iopub.status.busy": "2023-09-01T11:28:07.543682Z",
     "iopub.status.idle": "2023-09-01T11:28:07.550202Z",
     "shell.execute_reply": "2023-09-01T11:28:07.549262Z"
    },
    "papermill": {
     "duration": 0.014511,
     "end_time": "2023-09-01T11:28:07.552138",
     "exception": false,
     "start_time": "2023-09-01T11:28:07.537627",
     "status": "completed"
    },
    "tags": []
   },
   "outputs": [
    {
     "name": "stdout",
     "output_type": "stream",
     "text": [
      " ARRAY :  [ 2  3  4  5  6  7  8  9 10]\n",
      "\n",
      " 3 X 3 MATRIX : \n",
      "\n",
      "[[ 2  3  4]\n",
      " [ 5  6  7]\n",
      " [ 8  9 10]]\n"
     ]
    }
   ],
   "source": [
    "# importing numpy library \n",
    "\n",
    "import numpy as np \n",
    "\n",
    "# creating numpy array with the range of 2 to 10 \n",
    "\n",
    "# arange() function is used to create array within given range \n",
    "array = np.arange(2,11)\n",
    "\n",
    "#printing crated array\n",
    "print(\" ARRAY : \",array)\n",
    "print()\n",
    "\n",
    "# now reshapeing the created array into 3 X 3 matrix \n",
    "\n",
    "matrix_array = array.reshape(3,3)\n",
    "\n",
    "# now printing the matrix_array \n",
    "\n",
    "print(\" 3 X 3 MATRIX : \")\n",
    "print()\n",
    "print(matrix_array)"
   ]
  },
  {
   "cell_type": "markdown",
   "id": "e7b67e7a",
   "metadata": {
    "papermill": {
     "duration": 0.003488,
     "end_time": "2023-09-01T11:28:07.559504",
     "exception": false,
     "start_time": "2023-09-01T11:28:07.556016",
     "status": "completed"
    },
    "tags": []
   },
   "source": [
    "# to append values at the end of an array"
   ]
  },
  {
   "cell_type": "code",
   "execution_count": 3,
   "id": "b9327a6e",
   "metadata": {
    "execution": {
     "iopub.execute_input": "2023-09-01T11:28:07.568642Z",
     "iopub.status.busy": "2023-09-01T11:28:07.568057Z",
     "iopub.status.idle": "2023-09-01T11:28:07.573276Z",
     "shell.execute_reply": "2023-09-01T11:28:07.572648Z"
    },
    "papermill": {
     "duration": 0.012218,
     "end_time": "2023-09-01T11:28:07.575470",
     "exception": false,
     "start_time": "2023-09-01T11:28:07.563252",
     "status": "completed"
    },
    "tags": []
   },
   "outputs": [
    {
     "name": "stdout",
     "output_type": "stream",
     "text": [
      "\n",
      " ARRAY BEFORE APPENDING THE VALUES :  [1 2 3 4 5]\n",
      "\n",
      " ARRAY AFTER APPENDING THE VALUES  :  [1 2 3 4 5 6 7]\n"
     ]
    }
   ],
   "source": [
    "# importing library\n",
    "\n",
    "import numpy as np\n",
    "\n",
    "# creating array with the help of np.array \n",
    "\n",
    "array = np.array([1,2,3,4,5])\n",
    "\n",
    "#appending values in array \n",
    "\n",
    "array2 = np.append(array, [6,7])\n",
    "print()\n",
    "\n",
    "# printing both array \n",
    "\n",
    "print(\" ARRAY BEFORE APPENDING THE VALUES : \",array)\n",
    "\n",
    "print()\n",
    "print(\" ARRAY AFTER APPENDING THE VALUES  : \",array2)"
   ]
  },
  {
   "cell_type": "markdown",
   "id": "cabf8ad3",
   "metadata": {
    "papermill": {
     "duration": 0.003678,
     "end_time": "2023-09-01T11:28:07.583413",
     "exception": false,
     "start_time": "2023-09-01T11:28:07.579735",
     "status": "completed"
    },
    "tags": []
   },
   "source": [
    "#  to create another shape from an array without changing its data(3*2 to 2*3) "
   ]
  },
  {
   "cell_type": "code",
   "execution_count": 4,
   "id": "874d5c1c",
   "metadata": {
    "execution": {
     "iopub.execute_input": "2023-09-01T11:28:07.592906Z",
     "iopub.status.busy": "2023-09-01T11:28:07.592349Z",
     "iopub.status.idle": "2023-09-01T11:28:07.598456Z",
     "shell.execute_reply": "2023-09-01T11:28:07.597119Z"
    },
    "papermill": {
     "duration": 0.014697,
     "end_time": "2023-09-01T11:28:07.601925",
     "exception": false,
     "start_time": "2023-09-01T11:28:07.587228",
     "status": "completed"
    },
    "tags": []
   },
   "outputs": [
    {
     "name": "stdout",
     "output_type": "stream",
     "text": [
      "\n",
      " 3 X 2 ARRAY : \n",
      "[[1 2]\n",
      " [1 2]\n",
      " [1 2]]\n",
      "\n",
      " 2 X 3 ARRAY : \n",
      "[[1 2 1]\n",
      " [2 1 2]]\n"
     ]
    }
   ],
   "source": [
    "# importing library\n",
    "\n",
    "import numpy as np\n",
    "\n",
    "# creating 3 X 2 array \n",
    "array = np.array([ [1,2] , [1,2], [1,2] ])\n",
    "\n",
    "# now changing the shape of 3 X 2 array\n",
    "\n",
    "array2 = array.reshape(2,3)\n",
    "\n",
    "# printing both arrays\n",
    "\n",
    "print()\n",
    "print(\" 3 X 2 ARRAY : \")\n",
    "print(array)\n",
    "\n",
    "print()\n",
    "print(\" 2 X 3 ARRAY : \")\n",
    "print(array2)"
   ]
  },
  {
   "cell_type": "markdown",
   "id": "98d005f5",
   "metadata": {
    "papermill": {
     "duration": 0.003787,
     "end_time": "2023-09-01T11:28:07.610471",
     "exception": false,
     "start_time": "2023-09-01T11:28:07.606684",
     "status": "completed"
    },
    "tags": []
   },
   "source": [
    "# to split an array of 14 elements into 3 arrays, each with 2, 4, and 8 elements in the original order"
   ]
  },
  {
   "cell_type": "code",
   "execution_count": 5,
   "id": "fc2cefc0",
   "metadata": {
    "execution": {
     "iopub.execute_input": "2023-09-01T11:28:07.620372Z",
     "iopub.status.busy": "2023-09-01T11:28:07.619621Z",
     "iopub.status.idle": "2023-09-01T11:28:07.627258Z",
     "shell.execute_reply": "2023-09-01T11:28:07.625667Z"
    },
    "papermill": {
     "duration": 0.014929,
     "end_time": "2023-09-01T11:28:07.629238",
     "exception": false,
     "start_time": "2023-09-01T11:28:07.614309",
     "status": "completed"
    },
    "tags": []
   },
   "outputs": [
    {
     "name": "stdout",
     "output_type": "stream",
     "text": [
      " ARRAY :  [ 1  2  3  4  5  6  7  8  9 10 11 12 13 14]\n",
      "[array([1, 2]), array([3, 4, 5, 6]), array([ 7,  8,  9, 10, 11, 12, 13, 14])]\n"
     ]
    }
   ],
   "source": [
    "# importing library\n",
    "\n",
    "import numpy as np\n",
    "\n",
    "# creating array of 14 elements \n",
    "\n",
    "array = np.array([1,2,3,4,5,6,7,8,9,10,11,12,13,14])\n",
    "print(\" ARRAY : \",array)\n",
    "\n",
    "# splitting array of 14 elements into 2 4 8 order\n",
    "\n",
    "a1  = np.split(array,[2,6])\n",
    "print(a1)"
   ]
  }
 ],
 "kernelspec": {
  "display_name": "Python 3",
  "language": "python",
  "name": "python3"
 },
 "language_info": {
  "codemirror_mode": {
   "name": "ipython",
   "version": 3
  },
  "file_extension": ".py",
  "mimetype": "text/x-python",
  "name": "python",
  "nbconvert_exporter": "python",
  "pygments_lexer": "ipython3",
  "version": "3.6.4"
 },
 "metadata": {
  "kernelspec": {
   "display_name": "Python 3",
   "language": "python",
   "name": "python3"
  },
  "language_info": {
   "codemirror_mode": {
    "name": "ipython",
    "version": 3
   },
   "file_extension": ".py",
   "mimetype": "text/x-python",
   "name": "python",
   "nbconvert_exporter": "python",
   "pygments_lexer": "ipython3",
   "version": "3.10.12"
  },
  "papermill": {
   "default_parameters": {},
   "duration": 10.535856,
   "end_time": "2023-09-01T11:28:08.456334",
   "environment_variables": {},
   "exception": null,
   "input_path": "__notebook__.ipynb",
   "output_path": "__notebook__.ipynb",
   "parameters": {},
   "start_time": "2023-09-01T11:27:57.920478",
   "version": "2.4.0"
  }
 },
 "nbformat": 4,
 "nbformat_minor": 5
}
