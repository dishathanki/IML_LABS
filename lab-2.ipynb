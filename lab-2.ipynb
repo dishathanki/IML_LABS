{
 "cells": [
  {
   "cell_type": "markdown",
   "id": "d9d25792",
   "metadata": {
    "papermill": {
     "duration": 0.00462,
     "end_time": "2023-11-04T14:29:27.806872",
     "exception": false,
     "start_time": "2023-11-04T14:29:27.802252",
     "status": "completed"
    },
    "tags": []
   },
   "source": [
    "# Thanki Disha Bhagvanjibhai [216270307024]"
   ]
  },
  {
   "cell_type": "markdown",
   "id": "f35daf37",
   "metadata": {
    "papermill": {
     "duration": 0.003629,
     "end_time": "2023-11-04T14:29:27.814637",
     "exception": false,
     "start_time": "2023-11-04T14:29:27.811008",
     "status": "completed"
    },
    "tags": []
   },
   "source": [
    "# practical 2"
   ]
  },
  {
   "cell_type": "markdown",
   "id": "ad9f6f8b",
   "metadata": {
    "papermill": {
     "duration": 0.003608,
     "end_time": "2023-11-04T14:29:27.822154",
     "exception": false,
     "start_time": "2023-11-04T14:29:27.818546",
     "status": "completed"
    },
    "tags": []
   },
   "source": [
    "# 1. write a numpy program to convert list into numpy one dimensional array "
   ]
  },
  {
   "cell_type": "code",
   "execution_count": 1,
   "id": "c56099c2",
   "metadata": {
    "execution": {
     "iopub.execute_input": "2023-11-04T14:29:27.832270Z",
     "iopub.status.busy": "2023-11-04T14:29:27.831481Z",
     "iopub.status.idle": "2023-11-04T14:29:27.847246Z",
     "shell.execute_reply": "2023-11-04T14:29:27.846340Z"
    },
    "papermill": {
     "duration": 0.023771,
     "end_time": "2023-11-04T14:29:27.849815",
     "exception": false,
     "start_time": "2023-11-04T14:29:27.826044",
     "status": "completed"
    },
    "tags": []
   },
   "outputs": [
    {
     "name": "stdout",
     "output_type": "stream",
     "text": [
      " PYTHON LIST :  [1, 2, 3, 4, 5, 6, 7, 8, 9, 10]\n",
      "\n",
      " CONVERTED NUMPY ARRAY :  [ 1  2  3  4  5  6  7  8  9 10]\n",
      "\n",
      " CHECKING DIMENSION OF NUMPY ARRAY :  1\n"
     ]
    }
   ],
   "source": [
    "#importing numpy library\n",
    "import numpy as np\n",
    "\n",
    "# creating list of numeric values \n",
    "a = [1,2,3,4,5,6,7,8,9,10]\n",
    "\n",
    "# printing list \n",
    "print(\" PYTHON LIST : \",a)\n",
    "\n",
    "# converting list a into nupmy numeric array \n",
    "converted_list_into_array = np.array(a)\n",
    "print()\n",
    "\n",
    "# printing new numpy array\n",
    "print(\" CONVERTED NUMPY ARRAY : \",converted_list_into_array)\n",
    "print()\n",
    "\n",
    "#cheking dimension of converted list \n",
    "#ndim is used to check the dimension of numpy array\n",
    "print(\" CHECKING DIMENSION OF NUMPY ARRAY : \",converted_list_into_array.ndim)"
   ]
  },
  {
   "cell_type": "markdown",
   "id": "d609fe1c",
   "metadata": {
    "papermill": {
     "duration": 0.003771,
     "end_time": "2023-11-04T14:29:27.857721",
     "exception": false,
     "start_time": "2023-11-04T14:29:27.853950",
     "status": "completed"
    },
    "tags": []
   },
   "source": [
    "# 2. write a Numpy program to create a 3x3 matrix with values ranging from 2 to 10 "
   ]
  },
  {
   "cell_type": "code",
   "execution_count": 2,
   "id": "78bffa55",
   "metadata": {
    "execution": {
     "iopub.execute_input": "2023-11-04T14:29:27.868137Z",
     "iopub.status.busy": "2023-11-04T14:29:27.867055Z",
     "iopub.status.idle": "2023-11-04T14:29:27.874955Z",
     "shell.execute_reply": "2023-11-04T14:29:27.873597Z"
    },
    "papermill": {
     "duration": 0.015556,
     "end_time": "2023-11-04T14:29:27.877280",
     "exception": false,
     "start_time": "2023-11-04T14:29:27.861724",
     "status": "completed"
    },
    "tags": []
   },
   "outputs": [
    {
     "name": "stdout",
     "output_type": "stream",
     "text": [
      " ARRAY :  [ 2  3  4  5  6  7  8  9 10]\n",
      "\n",
      " 3 X 3 MATRIX : \n",
      "\n",
      "[[ 2  3  4]\n",
      " [ 5  6  7]\n",
      " [ 8  9 10]]\n"
     ]
    }
   ],
   "source": [
    "# importing numpy library \n",
    "import numpy as np \n",
    "\n",
    "# creating numpy array with the range of 2 to 10 \n",
    "\n",
    "# arange() function is used to create array within given range \n",
    "array = np.arange(2,11)\n",
    "\n",
    "#printing crated array\n",
    "print(\" ARRAY : \",array)\n",
    "print()\n",
    "\n",
    "# now reshapeing the created array into 3 X 3 matrix \n",
    "matrix_array = array.reshape(3,3)\n",
    "\n",
    "# now printing the matrix_array \n",
    "print(\" 3 X 3 MATRIX : \")\n",
    "print()\n",
    "print(matrix_array)"
   ]
  },
  {
   "cell_type": "markdown",
   "id": "29b2f8cf",
   "metadata": {
    "papermill": {
     "duration": 0.003866,
     "end_time": "2023-11-04T14:29:27.885511",
     "exception": false,
     "start_time": "2023-11-04T14:29:27.881645",
     "status": "completed"
    },
    "tags": []
   },
   "source": [
    "# 3. write a program to append values at the end of the array"
   ]
  },
  {
   "cell_type": "code",
   "execution_count": 3,
   "id": "e3ad0758",
   "metadata": {
    "execution": {
     "iopub.execute_input": "2023-11-04T14:29:27.895947Z",
     "iopub.status.busy": "2023-11-04T14:29:27.895133Z",
     "iopub.status.idle": "2023-11-04T14:29:27.902835Z",
     "shell.execute_reply": "2023-11-04T14:29:27.901255Z"
    },
    "papermill": {
     "duration": 0.015701,
     "end_time": "2023-11-04T14:29:27.905263",
     "exception": false,
     "start_time": "2023-11-04T14:29:27.889562",
     "status": "completed"
    },
    "tags": []
   },
   "outputs": [
    {
     "name": "stdout",
     "output_type": "stream",
     "text": [
      "\n",
      " ARRAY BEFORE APPENDING THE VALUES :  [1 2 3 4 5]\n",
      "\n",
      " ARRAY AFTER APPENDING THE VALUES  :  [1 2 3 4 5 6 7]\n"
     ]
    }
   ],
   "source": [
    "# importing library\n",
    "import numpy as np\n",
    "\n",
    "# creating array with the help of np.array \n",
    "array = np.array([1,2,3,4,5])\n",
    "\n",
    "#appending values in array\n",
    "array2 = np.append(array, [6,7])\n",
    "print()\n",
    "\n",
    "# printing both array \n",
    "print(\" ARRAY BEFORE APPENDING THE VALUES : \",array)\n",
    "print()\n",
    "print(\" ARRAY AFTER APPENDING THE VALUES  : \",array2)"
   ]
  },
  {
   "cell_type": "markdown",
   "id": "16376d50",
   "metadata": {
    "papermill": {
     "duration": 0.003981,
     "end_time": "2023-11-04T14:29:27.913648",
     "exception": false,
     "start_time": "2023-11-04T14:29:27.909667",
     "status": "completed"
    },
    "tags": []
   },
   "source": [
    "# 4. write a program to create another shape from an array without changing its data(3*2 to 2*3) "
   ]
  },
  {
   "cell_type": "code",
   "execution_count": 4,
   "id": "d12ec37a",
   "metadata": {
    "execution": {
     "iopub.execute_input": "2023-11-04T14:29:27.924368Z",
     "iopub.status.busy": "2023-11-04T14:29:27.923615Z",
     "iopub.status.idle": "2023-11-04T14:29:27.931077Z",
     "shell.execute_reply": "2023-11-04T14:29:27.929841Z"
    },
    "papermill": {
     "duration": 0.015337,
     "end_time": "2023-11-04T14:29:27.933247",
     "exception": false,
     "start_time": "2023-11-04T14:29:27.917910",
     "status": "completed"
    },
    "tags": []
   },
   "outputs": [
    {
     "name": "stdout",
     "output_type": "stream",
     "text": [
      "\n",
      " 3 X 2 ARRAY : \n",
      "[[1 2]\n",
      " [1 2]\n",
      " [1 2]]\n",
      "\n",
      " 2 X 3 ARRAY : \n",
      "[[1 2 1]\n",
      " [2 1 2]]\n"
     ]
    }
   ],
   "source": [
    "# importing library\n",
    "import numpy as np\n",
    "\n",
    "# creating 3 X 2 array \n",
    "array = np.array([ [1,2] , [1,2], [1,2] ])\n",
    "\n",
    "# now changing the shape of 3 X 2 array\n",
    "array2 = array.reshape(2,3)\n",
    "\n",
    "# printing both arrays\n",
    "print()\n",
    "print(\" 3 X 2 ARRAY : \")\n",
    "print(array)\n",
    "\n",
    "print()\n",
    "print(\" 2 X 3 ARRAY : \")\n",
    "print(array2)"
   ]
  },
  {
   "cell_type": "code",
   "execution_count": null,
   "id": "bb7e15ae",
   "metadata": {
    "papermill": {
     "duration": 0.004266,
     "end_time": "2023-11-04T14:29:27.942035",
     "exception": false,
     "start_time": "2023-11-04T14:29:27.937769",
     "status": "completed"
    },
    "tags": []
   },
   "outputs": [],
   "source": []
  }
 ],
 "metadata": {
  "kernelspec": {
   "display_name": "Python 3",
   "language": "python",
   "name": "python3"
  },
  "language_info": {
   "codemirror_mode": {
    "name": "ipython",
    "version": 3
   },
   "file_extension": ".py",
   "mimetype": "text/x-python",
   "name": "python",
   "nbconvert_exporter": "python",
   "pygments_lexer": "ipython3",
   "version": "3.10.12"
  },
  "papermill": {
   "default_parameters": {},
   "duration": 13.684617,
   "end_time": "2023-11-04T14:29:28.869442",
   "environment_variables": {},
   "exception": null,
   "input_path": "__notebook__.ipynb",
   "output_path": "__notebook__.ipynb",
   "parameters": {},
   "start_time": "2023-11-04T14:29:15.184825",
   "version": "2.4.0"
  }
 },
 "nbformat": 4,
 "nbformat_minor": 5
}
