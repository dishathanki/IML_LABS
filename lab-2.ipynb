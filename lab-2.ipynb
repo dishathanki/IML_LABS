{
 "cells": [
  {
   "cell_type": "markdown",
   "id": "d21276b4",
   "metadata": {
    "papermill": {
     "duration": 0.006252,
     "end_time": "2023-09-01T16:37:37.195027",
     "exception": false,
     "start_time": "2023-09-01T16:37:37.188775",
     "status": "completed"
    },
    "tags": []
   },
   "source": [
    "# Thanki Disha Bhagvanjibhai [216270307024]"
   ]
  },
  {
   "cell_type": "markdown",
   "id": "2074c8d4",
   "metadata": {
    "papermill": {
     "duration": 0.005242,
     "end_time": "2023-09-01T16:37:37.205922",
     "exception": false,
     "start_time": "2023-09-01T16:37:37.200680",
     "status": "completed"
    },
    "tags": []
   },
   "source": [
    "# practical 2"
   ]
  },
  {
   "cell_type": "markdown",
   "id": "76e96d28",
   "metadata": {
    "papermill": {
     "duration": 0.005124,
     "end_time": "2023-09-01T16:37:37.216484",
     "exception": false,
     "start_time": "2023-09-01T16:37:37.211360",
     "status": "completed"
    },
    "tags": []
   },
   "source": [
    "# 1. write a numpy program to convert list into numpy one dimensional array "
   ]
  },
  {
   "cell_type": "code",
   "execution_count": 1,
   "id": "a8b1aa6d",
   "metadata": {
    "execution": {
     "iopub.execute_input": "2023-09-01T16:37:37.230967Z",
     "iopub.status.busy": "2023-09-01T16:37:37.230006Z",
     "iopub.status.idle": "2023-09-01T16:37:37.247535Z",
     "shell.execute_reply": "2023-09-01T16:37:37.246292Z"
    },
    "papermill": {
     "duration": 0.027974,
     "end_time": "2023-09-01T16:37:37.249927",
     "exception": false,
     "start_time": "2023-09-01T16:37:37.221953",
     "status": "completed"
    },
    "tags": []
   },
   "outputs": [
    {
     "name": "stdout",
     "output_type": "stream",
     "text": [
      " PYTHON LIST :  [1, 2, 3, 4, 5, 6, 7, 8, 9, 10]\n",
      "\n",
      " CONVERTED NUMPY ARRAY :  [ 1  2  3  4  5  6  7  8  9 10]\n",
      "\n",
      " CHECKING DIMENSION OF NUMPY ARRAY :  1\n"
     ]
    }
   ],
   "source": [
    "#importing numpy library\n",
    "import numpy as np\n",
    "\n",
    "# creating list of numeric values \n",
    "a = [1,2,3,4,5,6,7,8,9,10]\n",
    "\n",
    "# printing list \n",
    "print(\" PYTHON LIST : \",a)\n",
    "\n",
    "# converting list a into nupmy numeric array \n",
    "converted_list_into_array = np.array(a)\n",
    "print()\n",
    "\n",
    "# printing new numpy array\n",
    "print(\" CONVERTED NUMPY ARRAY : \",converted_list_into_array)\n",
    "print()\n",
    "\n",
    "#cheking dimension of converted list \n",
    "#ndim is used to check the dimension of numpy array\n",
    "print(\" CHECKING DIMENSION OF NUMPY ARRAY : \",converted_list_into_array.ndim)"
   ]
  },
  {
   "cell_type": "markdown",
   "id": "c71629c2",
   "metadata": {
    "papermill": {
     "duration": 0.005285,
     "end_time": "2023-09-01T16:37:37.261091",
     "exception": false,
     "start_time": "2023-09-01T16:37:37.255806",
     "status": "completed"
    },
    "tags": []
   },
   "source": [
    "# 2. write a Numpy program to create a 3x3 matrix with values ranging from 2 to 10 "
   ]
  },
  {
   "cell_type": "code",
   "execution_count": 2,
   "id": "bfa74b3a",
   "metadata": {
    "execution": {
     "iopub.execute_input": "2023-09-01T16:37:37.274793Z",
     "iopub.status.busy": "2023-09-01T16:37:37.273957Z",
     "iopub.status.idle": "2023-09-01T16:37:37.282397Z",
     "shell.execute_reply": "2023-09-01T16:37:37.281078Z"
    },
    "papermill": {
     "duration": 0.017938,
     "end_time": "2023-09-01T16:37:37.284632",
     "exception": false,
     "start_time": "2023-09-01T16:37:37.266694",
     "status": "completed"
    },
    "tags": []
   },
   "outputs": [
    {
     "name": "stdout",
     "output_type": "stream",
     "text": [
      " ARRAY :  [ 2  3  4  5  6  7  8  9 10]\n",
      "\n",
      " 3 X 3 MATRIX : \n",
      "\n",
      "[[ 2  3  4]\n",
      " [ 5  6  7]\n",
      " [ 8  9 10]]\n"
     ]
    }
   ],
   "source": [
    "# importing numpy library \n",
    "import numpy as np \n",
    "\n",
    "# creating numpy array with the range of 2 to 10 \n",
    "\n",
    "# arange() function is used to create array within given range \n",
    "array = np.arange(2,11)\n",
    "\n",
    "#printing crated array\n",
    "print(\" ARRAY : \",array)\n",
    "print()\n",
    "\n",
    "# now reshapeing the created array into 3 X 3 matrix \n",
    "matrix_array = array.reshape(3,3)\n",
    "\n",
    "# now printing the matrix_array \n",
    "print(\" 3 X 3 MATRIX : \")\n",
    "print()\n",
    "print(matrix_array)"
   ]
  },
  {
   "cell_type": "markdown",
   "id": "e57a9541",
   "metadata": {
    "papermill": {
     "duration": 0.00532,
     "end_time": "2023-09-01T16:37:37.295519",
     "exception": false,
     "start_time": "2023-09-01T16:37:37.290199",
     "status": "completed"
    },
    "tags": []
   },
   "source": [
    "# 3. write a program to append values at the end of the array"
   ]
  },
  {
   "cell_type": "code",
   "execution_count": 3,
   "id": "7718d86d",
   "metadata": {
    "execution": {
     "iopub.execute_input": "2023-09-01T16:37:37.309388Z",
     "iopub.status.busy": "2023-09-01T16:37:37.308510Z",
     "iopub.status.idle": "2023-09-01T16:37:37.316680Z",
     "shell.execute_reply": "2023-09-01T16:37:37.315136Z"
    },
    "papermill": {
     "duration": 0.01812,
     "end_time": "2023-09-01T16:37:37.319112",
     "exception": false,
     "start_time": "2023-09-01T16:37:37.300992",
     "status": "completed"
    },
    "tags": []
   },
   "outputs": [
    {
     "name": "stdout",
     "output_type": "stream",
     "text": [
      "\n",
      " ARRAY BEFORE APPENDING THE VALUES :  [1 2 3 4 5]\n",
      "\n",
      " ARRAY AFTER APPENDING THE VALUES  :  [1 2 3 4 5 6 7]\n"
     ]
    }
   ],
   "source": [
    "# importing library\n",
    "import numpy as np\n",
    "\n",
    "# creating array with the help of np.array \n",
    "array = np.array([1,2,3,4,5])\n",
    "\n",
    "#appending values in array\n",
    "array2 = np.append(array, [6,7])\n",
    "print()\n",
    "\n",
    "# printing both array \n",
    "print(\" ARRAY BEFORE APPENDING THE VALUES : \",array)\n",
    "print()\n",
    "print(\" ARRAY AFTER APPENDING THE VALUES  : \",array2)"
   ]
  },
  {
   "cell_type": "markdown",
   "id": "b90d7823",
   "metadata": {
    "papermill": {
     "duration": 0.00555,
     "end_time": "2023-09-01T16:37:37.330602",
     "exception": false,
     "start_time": "2023-09-01T16:37:37.325052",
     "status": "completed"
    },
    "tags": []
   },
   "source": [
    "# 4. write a program to create another shape from an array without changing its data(3*2 to 2*3) "
   ]
  },
  {
   "cell_type": "code",
   "execution_count": 4,
   "id": "af62e094",
   "metadata": {
    "execution": {
     "iopub.execute_input": "2023-09-01T16:37:37.344452Z",
     "iopub.status.busy": "2023-09-01T16:37:37.343555Z",
     "iopub.status.idle": "2023-09-01T16:37:37.352291Z",
     "shell.execute_reply": "2023-09-01T16:37:37.351007Z"
    },
    "papermill": {
     "duration": 0.018987,
     "end_time": "2023-09-01T16:37:37.355226",
     "exception": false,
     "start_time": "2023-09-01T16:37:37.336239",
     "status": "completed"
    },
    "tags": []
   },
   "outputs": [
    {
     "name": "stdout",
     "output_type": "stream",
     "text": [
      "\n",
      " 3 X 2 ARRAY : \n",
      "[[1 2]\n",
      " [1 2]\n",
      " [1 2]]\n",
      "\n",
      " 2 X 3 ARRAY : \n",
      "[[1 2 1]\n",
      " [2 1 2]]\n"
     ]
    }
   ],
   "source": [
    "# importing library\n",
    "import numpy as np\n",
    "\n",
    "# creating 3 X 2 array \n",
    "array = np.array([ [1,2] , [1,2], [1,2] ])\n",
    "\n",
    "# now changing the shape of 3 X 2 array\n",
    "array2 = array.reshape(2,3)\n",
    "\n",
    "# printing both arrays\n",
    "print()\n",
    "print(\" 3 X 2 ARRAY : \")\n",
    "print(array)\n",
    "\n",
    "print()\n",
    "print(\" 2 X 3 ARRAY : \")\n",
    "print(array2)"
   ]
  }
 ],
 "kernelspec": {
  "display_name": "Python 3",
  "language": "python",
  "name": "python3"
 },
 "language_info": {
  "codemirror_mode": {
   "name": "ipython",
   "version": 3
  },
  "file_extension": ".py",
  "mimetype": "text/x-python",
  "name": "python",
  "nbconvert_exporter": "python",
  "pygments_lexer": "ipython3",
  "version": "3.6.4"
 },
 "metadata": {
  "kernelspec": {
   "display_name": "Python 3",
   "language": "python",
   "name": "python3"
  },
  "language_info": {
   "codemirror_mode": {
    "name": "ipython",
    "version": 3
   },
   "file_extension": ".py",
   "mimetype": "text/x-python",
   "name": "python",
   "nbconvert_exporter": "python",
   "pygments_lexer": "ipython3",
   "version": "3.10.12"
  },
  "papermill": {
   "default_parameters": {},
   "duration": 14.212612,
   "end_time": "2023-09-01T16:37:38.287727",
   "environment_variables": {},
   "exception": null,
   "input_path": "__notebook__.ipynb",
   "output_path": "__notebook__.ipynb",
   "parameters": {},
   "start_time": "2023-09-01T16:37:24.075115",
   "version": "2.4.0"
  }
 },
 "nbformat": 4,
 "nbformat_minor": 5
}
